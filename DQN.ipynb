{
  "nbformat": 4,
  "nbformat_minor": 0,
  "metadata": {
    "colab": {
      "provenance": [],
      "authorship_tag": "ABX9TyM/jQwexo7a7IiytkietNvo",
      "include_colab_link": true
    },
    "kernelspec": {
      "name": "python3",
      "display_name": "Python 3"
    },
    "language_info": {
      "name": "python"
    }
  },
  "cells": [
    {
      "cell_type": "markdown",
      "metadata": {
        "id": "view-in-github",
        "colab_type": "text"
      },
      "source": [
        "<a href=\"https://colab.research.google.com/github/Neel7317/Reinforcement_Learning-/blob/main/DQN.ipynb\" target=\"_parent\"><img src=\"https://colab.research.google.com/assets/colab-badge.svg\" alt=\"Open In Colab\"/></a>"
      ]
    },
    {
      "cell_type": "code",
      "source": [
        "!pip install tensorflow\n",
        "!pip install gym\n",
        "!pip install keras\n",
        "!pip install keras-rl2"
      ],
      "metadata": {
        "id": "cUfwqcdPSTIj"
      },
      "execution_count": null,
      "outputs": []
    },
    {
      "cell_type": "code",
      "source": [
        "import gym \n",
        "import random"
      ],
      "metadata": {
        "id": "s9tPUkvDS-5o"
      },
      "execution_count": 2,
      "outputs": []
    },
    {
      "cell_type": "code",
      "source": [
        "env = gym.make('CartPole-v0')\n",
        "states = env.observation_space.shape[0]\n",
        "actions = env.action_space.n\n",
        "print(states)\n",
        "print(actions)"
      ],
      "metadata": {
        "id": "v-UZG7gaTcF8"
      },
      "execution_count": null,
      "outputs": []
    },
    {
      "cell_type": "code",
      "source": [
        "!pip install gym[classic_control]"
      ],
      "metadata": {
        "colab": {
          "base_uri": "https://localhost:8080/"
        },
        "id": "cioyACwVUiHH",
        "outputId": "79f99dda-8771-4412-e4c2-a0a3696ef472"
      },
      "execution_count": 11,
      "outputs": [
        {
          "output_type": "stream",
          "name": "stdout",
          "text": [
            "Looking in indexes: https://pypi.org/simple, https://us-python.pkg.dev/colab-wheels/public/simple/\n",
            "Requirement already satisfied: gym[classic_control] in /usr/local/lib/python3.7/dist-packages (0.25.2)\n",
            "Requirement already satisfied: importlib-metadata>=4.8.0 in /usr/local/lib/python3.7/dist-packages (from gym[classic_control]) (4.13.0)\n",
            "Requirement already satisfied: cloudpickle>=1.2.0 in /usr/local/lib/python3.7/dist-packages (from gym[classic_control]) (1.5.0)\n",
            "Requirement already satisfied: numpy>=1.18.0 in /usr/local/lib/python3.7/dist-packages (from gym[classic_control]) (1.21.6)\n",
            "Requirement already satisfied: gym-notices>=0.0.4 in /usr/local/lib/python3.7/dist-packages (from gym[classic_control]) (0.0.8)\n",
            "Collecting pygame==2.1.0\n",
            "  Downloading pygame-2.1.0-cp37-cp37m-manylinux_2_17_x86_64.manylinux2014_x86_64.whl (18.3 MB)\n",
            "\u001b[K     |████████████████████████████████| 18.3 MB 97 kB/s \n",
            "\u001b[?25hRequirement already satisfied: zipp>=0.5 in /usr/local/lib/python3.7/dist-packages (from importlib-metadata>=4.8.0->gym[classic_control]) (3.9.0)\n",
            "Requirement already satisfied: typing-extensions>=3.6.4 in /usr/local/lib/python3.7/dist-packages (from importlib-metadata>=4.8.0->gym[classic_control]) (4.1.1)\n",
            "Installing collected packages: pygame\n",
            "Successfully installed pygame-2.1.0\n"
          ]
        }
      ]
    },
    {
      "cell_type": "code",
      "source": [
        "episodes = 10\n",
        "for episode in range(1, episodes+1):\n",
        "    state = env.reset()\n",
        "    done = False\n",
        "    score = 0 \n",
        "    \n",
        "    while not done:\n",
        "        env.render()\n",
        "        action = random.choice([0,1])\n",
        "        n_state, reward, done, info = env.step(action)\n",
        "        score+=reward\n",
        "    print('Episode:{} Score:{}'.format(episode, score))"
      ],
      "metadata": {
        "colab": {
          "base_uri": "https://localhost:8080/"
        },
        "id": "3Tap87HXTjkV",
        "outputId": "01837102-7313-4013-8d45-d7215c5a634e"
      },
      "execution_count": 13,
      "outputs": [
        {
          "output_type": "stream",
          "name": "stdout",
          "text": [
            "Episode:1 Score:17.0\n",
            "Episode:2 Score:40.0\n",
            "Episode:3 Score:22.0\n",
            "Episode:4 Score:19.0\n",
            "Episode:5 Score:15.0\n",
            "Episode:6 Score:17.0\n",
            "Episode:7 Score:21.0\n",
            "Episode:8 Score:51.0\n",
            "Episode:9 Score:12.0\n",
            "Episode:10 Score:17.0\n"
          ]
        }
      ]
    },
    {
      "cell_type": "code",
      "source": [
        "import numpy as np\n",
        "from tensorflow.keras.models import Sequential\n",
        "from tensorflow.keras.layers import Dense, Flatten\n",
        "from tensorflow.keras.optimizers import Adam"
      ],
      "metadata": {
        "id": "G7DKgp5MTuP4"
      },
      "execution_count": 38,
      "outputs": []
    },
    {
      "cell_type": "code",
      "source": [
        "def build_model(states, actions):\n",
        "    model = Sequential()\n",
        "    model.add(Flatten(input_shape=(1,states)))\n",
        "    model.add(Dense(24, activation='relu'))\n",
        "    model.add(Dense(24, activation='relu'))\n",
        "    model.add(Dense(actions, activation='linear'))\n",
        "    return model"
      ],
      "metadata": {
        "id": "jzpUlPeFVC_T"
      },
      "execution_count": 40,
      "outputs": []
    },
    {
      "cell_type": "code",
      "source": [
        "model = build_model(states, actions)"
      ],
      "metadata": {
        "id": "YRje-1yKVIIT"
      },
      "execution_count": 41,
      "outputs": []
    },
    {
      "cell_type": "code",
      "source": [
        "model.summary()"
      ],
      "metadata": {
        "colab": {
          "base_uri": "https://localhost:8080/"
        },
        "id": "MgNL5_gEVKp4",
        "outputId": "aa276024-2975-4303-fceb-ca5ea716634d"
      },
      "execution_count": 42,
      "outputs": [
        {
          "output_type": "stream",
          "name": "stdout",
          "text": [
            "Model: \"sequential_5\"\n",
            "_________________________________________________________________\n",
            " Layer (type)                Output Shape              Param #   \n",
            "=================================================================\n",
            " flatten_5 (Flatten)         (None, 4)                 0         \n",
            "                                                                 \n",
            " dense_15 (Dense)            (None, 24)                120       \n",
            "                                                                 \n",
            " dense_16 (Dense)            (None, 24)                600       \n",
            "                                                                 \n",
            " dense_17 (Dense)            (None, 2)                 50        \n",
            "                                                                 \n",
            "=================================================================\n",
            "Total params: 770\n",
            "Trainable params: 770\n",
            "Non-trainable params: 0\n",
            "_________________________________________________________________\n"
          ]
        }
      ]
    },
    {
      "cell_type": "code",
      "source": [
        "from rl.agents import DQNAgent\n",
        "from rl.policy import BoltzmannQPolicy\n",
        "from rl.memory import SequentialMemory"
      ],
      "metadata": {
        "id": "6mfV79KFVMyW"
      },
      "execution_count": 18,
      "outputs": []
    },
    {
      "cell_type": "code",
      "source": [
        "def build_agent(model, actions):\n",
        "    policy = BoltzmannQPolicy()\n",
        "    memory = SequentialMemory(limit=50000, window_length=1)\n",
        "    dqn = DQNAgent(model=model, memory=memory, policy=policy, \n",
        "                  nb_actions=actions, nb_steps_warmup=10, target_model_update=1e-2)\n",
        "    return dqn"
      ],
      "metadata": {
        "id": "HnRS5wlcVRmx"
      },
      "execution_count": 43,
      "outputs": []
    },
    {
      "cell_type": "code",
      "source": [
        "dqn = build_agent(model, actions)\n",
        "dqn.compile(Adam(lr=1e-3), metrics=['mae'])\n",
        "dqn.fit(env, nb_steps=50000, visualize=False, verbose=1)"
      ],
      "metadata": {
        "colab": {
          "base_uri": "https://localhost:8080/"
        },
        "id": "k8ynezOzVUxu",
        "outputId": "a5f06727-ff39-48f4-cfa9-c821d48d3c1f"
      },
      "execution_count": 44,
      "outputs": [
        {
          "output_type": "stream",
          "name": "stdout",
          "text": [
            "Training for 50000 steps ...\n",
            "Interval 1 (0 steps performed)\n",
            "10000/10000 [==============================] - 98s 10ms/step - reward: 1.0000\n",
            "107 episodes - episode_reward: 92.879 [8.000, 200.000] - loss: 2.140 - mae: 18.465 - mean_q: 37.504\n",
            "\n",
            "Interval 2 (10000 steps performed)\n",
            "10000/10000 [==============================] - 98s 10ms/step - reward: 1.0000\n",
            "55 episodes - episode_reward: 182.145 [137.000, 200.000] - loss: 4.438 - mae: 35.958 - mean_q: 72.720\n",
            "\n",
            "Interval 3 (20000 steps performed)\n",
            "10000/10000 [==============================] - 96s 10ms/step - reward: 1.0000\n",
            "56 episodes - episode_reward: 179.196 [114.000, 200.000] - loss: 3.673 - mae: 37.380 - mean_q: 75.294\n",
            "\n",
            "Interval 4 (30000 steps performed)\n",
            "10000/10000 [==============================] - 102s 10ms/step - reward: 1.0000\n",
            "56 episodes - episode_reward: 176.268 [124.000, 200.000] - loss: 2.678 - mae: 36.356 - mean_q: 73.060\n",
            "\n",
            "Interval 5 (40000 steps performed)\n",
            "10000/10000 [==============================] - 100s 10ms/step - reward: 1.0000\n",
            "done, took 494.128 seconds\n"
          ]
        },
        {
          "output_type": "execute_result",
          "data": {
            "text/plain": [
              "<keras.callbacks.History at 0x7f7db0d60910>"
            ]
          },
          "metadata": {},
          "execution_count": 44
        }
      ]
    },
    {
      "cell_type": "code",
      "source": [
        "_ = dqn.test(env, nb_episodes=15, visualize=True)"
      ],
      "metadata": {
        "colab": {
          "base_uri": "https://localhost:8080/"
        },
        "id": "N1xIcWujVXlS",
        "outputId": "18d2a919-616d-491c-b164-429eb55f926e"
      },
      "execution_count": 45,
      "outputs": [
        {
          "output_type": "stream",
          "name": "stdout",
          "text": [
            "Testing for 15 episodes ...\n",
            "Episode 1: reward: 200.000, steps: 200\n",
            "Episode 2: reward: 200.000, steps: 200\n",
            "Episode 3: reward: 200.000, steps: 200\n",
            "Episode 4: reward: 200.000, steps: 200\n",
            "Episode 5: reward: 200.000, steps: 200\n",
            "Episode 6: reward: 200.000, steps: 200\n",
            "Episode 7: reward: 200.000, steps: 200\n",
            "Episode 8: reward: 200.000, steps: 200\n",
            "Episode 9: reward: 200.000, steps: 200\n",
            "Episode 10: reward: 200.000, steps: 200\n",
            "Episode 11: reward: 200.000, steps: 200\n",
            "Episode 12: reward: 200.000, steps: 200\n",
            "Episode 13: reward: 200.000, steps: 200\n",
            "Episode 14: reward: 200.000, steps: 200\n",
            "Episode 15: reward: 200.000, steps: 200\n"
          ]
        }
      ]
    },
    {
      "cell_type": "code",
      "source": [
        "dqn.save_weights('dqn2_weights.h5f', overwrite=True)"
      ],
      "metadata": {
        "id": "oVsMOODql0L9"
      },
      "execution_count": 46,
      "outputs": []
    },
    {
      "cell_type": "code",
      "source": [
        "del model\n",
        "del dqn\n",
        "del env"
      ],
      "metadata": {
        "id": "LkzQeQlzl6VJ"
      },
      "execution_count": 54,
      "outputs": []
    },
    {
      "cell_type": "code",
      "source": [
        "env = gym.make('CartPole-v1')\n",
        "actions = env.action_space.n\n",
        "states = env.observation_space.shape[0]\n",
        "model = build_model(states, actions)\n",
        "dqn = build_agent(model, actions)\n",
        "dqn.compile(Adam(lr=1e-3), metrics=['mae'])"
      ],
      "metadata": {
        "id": "gEJN55QJl7ej"
      },
      "execution_count": 55,
      "outputs": []
    },
    {
      "cell_type": "code",
      "source": [
        "dqn.load_weights('dqn2_weights.h5f')"
      ],
      "metadata": {
        "id": "BsbE78ftmCkz"
      },
      "execution_count": 58,
      "outputs": []
    },
    {
      "cell_type": "code",
      "source": [
        "_ = dqn.test(env, nb_episodes=5, visualize=True)"
      ],
      "metadata": {
        "colab": {
          "base_uri": "https://localhost:8080/"
        },
        "id": "PYXHIyaEmDdD",
        "outputId": "56969d8d-f5ab-4e42-b1f8-5bd497a60b7d"
      },
      "execution_count": 59,
      "outputs": [
        {
          "output_type": "stream",
          "name": "stdout",
          "text": [
            "Testing for 5 episodes ...\n",
            "Episode 1: reward: 500.000, steps: 500\n",
            "Episode 2: reward: 495.000, steps: 495\n",
            "Episode 3: reward: 489.000, steps: 489\n",
            "Episode 4: reward: 500.000, steps: 500\n",
            "Episode 5: reward: 500.000, steps: 500\n"
          ]
        }
      ]
    },
    {
      "cell_type": "code",
      "source": [],
      "metadata": {
        "id": "Ad_DuRIOmDBt"
      },
      "execution_count": null,
      "outputs": []
    },
    {
      "cell_type": "code",
      "source": [],
      "metadata": {
        "id": "7tP-HSkdCs04"
      },
      "execution_count": null,
      "outputs": []
    },
    {
      "cell_type": "code",
      "source": [
        "!apt-get install -y xvfb python-opengl ffmpeg > /dev/null 2>&1\n",
        "!pip install -U colabgymrender"
      ],
      "metadata": {
        "colab": {
          "base_uri": "https://localhost:8080/"
        },
        "id": "nGPDSCopCsxV",
        "outputId": "f6e59162-9560-4d46-a4af-7eb75eb6ba40"
      },
      "execution_count": 60,
      "outputs": [
        {
          "output_type": "stream",
          "name": "stdout",
          "text": [
            "Looking in indexes: https://pypi.org/simple, https://us-python.pkg.dev/colab-wheels/public/simple/\n",
            "Collecting colabgymrender\n",
            "  Downloading colabgymrender-1.1.0.tar.gz (3.5 kB)\n",
            "Requirement already satisfied: moviepy in /usr/local/lib/python3.7/dist-packages (from colabgymrender) (0.2.3.5)\n",
            "Requirement already satisfied: imageio<3.0,>=2.1.2 in /usr/local/lib/python3.7/dist-packages (from moviepy->colabgymrender) (2.9.0)\n",
            "Requirement already satisfied: tqdm<5.0,>=4.11.2 in /usr/local/lib/python3.7/dist-packages (from moviepy->colabgymrender) (4.64.1)\n",
            "Requirement already satisfied: decorator<5.0,>=4.0.2 in /usr/local/lib/python3.7/dist-packages (from moviepy->colabgymrender) (4.4.2)\n",
            "Requirement already satisfied: numpy in /usr/local/lib/python3.7/dist-packages (from moviepy->colabgymrender) (1.21.6)\n",
            "Requirement already satisfied: pillow in /usr/local/lib/python3.7/dist-packages (from imageio<3.0,>=2.1.2->moviepy->colabgymrender) (7.1.2)\n",
            "Building wheels for collected packages: colabgymrender\n",
            "  Building wheel for colabgymrender (setup.py) ... \u001b[?25l\u001b[?25hdone\n",
            "  Created wheel for colabgymrender: filename=colabgymrender-1.1.0-py3-none-any.whl size=3132 sha256=05edd8b370ad9f5021d4e4b565e12c2c14a6a879dba8b766558542275fa988dd\n",
            "  Stored in directory: /root/.cache/pip/wheels/f1/0a/2a/86955ea711b461ab7918236fed2568733f75ed677d0524b56c\n",
            "Successfully built colabgymrender\n",
            "Installing collected packages: colabgymrender\n",
            "Successfully installed colabgymrender-1.1.0\n"
          ]
        }
      ]
    },
    {
      "cell_type": "code",
      "source": [
        "!pip install imageio==2.4.1"
      ],
      "metadata": {
        "colab": {
          "base_uri": "https://localhost:8080/",
          "height": 419
        },
        "id": "GL6HoRIbC3GC",
        "outputId": "ae2057b5-f199-40a2-ca3d-028015ab89af"
      },
      "execution_count": 62,
      "outputs": [
        {
          "output_type": "stream",
          "name": "stdout",
          "text": [
            "Looking in indexes: https://pypi.org/simple, https://us-python.pkg.dev/colab-wheels/public/simple/\n",
            "Collecting imageio==2.4.1\n",
            "  Downloading imageio-2.4.1.tar.gz (3.3 MB)\n",
            "\u001b[K     |████████████████████████████████| 3.3 MB 5.2 MB/s \n",
            "\u001b[?25hRequirement already satisfied: numpy in /usr/local/lib/python3.7/dist-packages (from imageio==2.4.1) (1.21.6)\n",
            "Requirement already satisfied: pillow in /usr/local/lib/python3.7/dist-packages (from imageio==2.4.1) (7.1.2)\n",
            "Building wheels for collected packages: imageio\n",
            "  Building wheel for imageio (setup.py) ... \u001b[?25l\u001b[?25hdone\n",
            "  Created wheel for imageio: filename=imageio-2.4.1-py3-none-any.whl size=3303885 sha256=c0c9efdae522cc92b6940391bcfc8695eb6d44ef2e3c8be41847fe988e830f4a\n",
            "  Stored in directory: /root/.cache/pip/wheels/46/20/07/7bb9c8c44e6ec2efa60fd0e6280094f53f65f41767ef69a5ee\n",
            "Successfully built imageio\n",
            "Installing collected packages: imageio\n",
            "  Attempting uninstall: imageio\n",
            "    Found existing installation: imageio 2.9.0\n",
            "    Uninstalling imageio-2.9.0:\n",
            "      Successfully uninstalled imageio-2.9.0\n",
            "Successfully installed imageio-2.4.1\n"
          ]
        },
        {
          "output_type": "display_data",
          "data": {
            "application/vnd.colab-display-data+json": {
              "pip_warning": {
                "packages": [
                  "imageio"
                ]
              }
            }
          },
          "metadata": {}
        }
      ]
    },
    {
      "cell_type": "code",
      "source": [
        "import gym\n",
        "from colabgymrender.recorder import Recorder"
      ],
      "metadata": {
        "colab": {
          "base_uri": "https://localhost:8080/"
        },
        "id": "EcCfE4GJCsvr",
        "outputId": "a0bc138a-e853-45bf-cce3-c7a2dc5bcb0a"
      },
      "execution_count": 1,
      "outputs": [
        {
          "output_type": "stream",
          "name": "stdout",
          "text": [
            "Imageio: 'ffmpeg-linux64-v3.3.1' was not found on your computer; downloading it now.\n",
            "Try 1. Download from https://github.com/imageio/imageio-binaries/raw/master/ffmpeg/ffmpeg-linux64-v3.3.1 (43.8 MB)\n",
            "Downloading: 8192/45929032 bytes (0.0%)\b\b\b\b\b\b\b\b\b\b\b\b\b\b\b\b\b\b\b\b\b\b\b\b\b\b2244608/45929032 bytes (4.9%)\b\b\b\b\b\b\b\b\b\b\b\b\b\b\b\b\b\b\b\b\b\b\b\b\b\b\b\b\b5423104/45929032 bytes (11.8%)\b\b\b\b\b\b\b\b\b\b\b\b\b\b\b\b\b\b\b\b\b\b\b\b\b\b\b\b\b\b8404992/45929032 bytes (18.3%)\b\b\b\b\b\b\b\b\b\b\b\b\b\b\b\b\b\b\b\b\b\b\b\b\b\b\b\b\b\b11272192/45929032 bytes (24.5%)\b\b\b\b\b\b\b\b\b\b\b\b\b\b\b\b\b\b\b\b\b\b\b\b\b\b\b\b\b\b\b14286848/45929032 bytes (31.1%)\b\b\b\b\b\b\b\b\b\b\b\b\b\b\b\b\b\b\b\b\b\b\b\b\b\b\b\b\b\b\b17473536/45929032 bytes (38.0%)\b\b\b\b\b\b\b\b\b\b\b\b\b\b\b\b\b\b\b\b\b\b\b\b\b\b\b\b\b\b\b20561920/45929032 bytes (44.8%)\b\b\b\b\b\b\b\b\b\b\b\b\b\b\b\b\b\b\b\b\b\b\b\b\b\b\b\b\b\b\b24002560/45929032 bytes (52.3%)\b\b\b\b\b\b\b\b\b\b\b\b\b\b\b\b\b\b\b\b\b\b\b\b\b\b\b\b\b\b\b27361280/45929032 bytes (59.6%)\b\b\b\b\b\b\b\b\b\b\b\b\b\b\b\b\b\b\b\b\b\b\b\b\b\b\b\b\b\b\b30941184/45929032 bytes (67.4%)\b\b\b\b\b\b\b\b\b\b\b\b\b\b\b\b\b\b\b\b\b\b\b\b\b\b\b\b\b\b\b34357248/45929032 bytes (74.8%)\b\b\b\b\b\b\b\b\b\b\b\b\b\b\b\b\b\b\b\b\b\b\b\b\b\b\b\b\b\b\b37576704/45929032 bytes (81.8%)\b\b\b\b\b\b\b\b\b\b\b\b\b\b\b\b\b\b\b\b\b\b\b\b\b\b\b\b\b\b\b40402944/45929032 bytes (88.0%)\b\b\b\b\b\b\b\b\b\b\b\b\b\b\b\b\b\b\b\b\b\b\b\b\b\b\b\b\b\b\b43638784/45929032 bytes (95.0%)\b\b\b\b\b\b\b\b\b\b\b\b\b\b\b\b\b\b\b\b\b\b\b\b\b\b\b\b\b\b\b45929032/45929032 bytes (100.0%)\n",
            "  Done\n",
            "File saved as /root/.imageio/ffmpeg/ffmpeg-linux64-v3.3.1.\n"
          ]
        }
      ]
    },
    {
      "cell_type": "code",
      "source": [
        "!pip install gym[classic_control]"
      ],
      "metadata": {
        "colab": {
          "base_uri": "https://localhost:8080/"
        },
        "id": "9sMDqDzECsuO",
        "outputId": "930b4d6e-59db-4eb3-acd3-b7a2dddfccd9"
      },
      "execution_count": 2,
      "outputs": [
        {
          "output_type": "stream",
          "name": "stdout",
          "text": [
            "Looking in indexes: https://pypi.org/simple, https://us-python.pkg.dev/colab-wheels/public/simple/\n",
            "Requirement already satisfied: gym[classic_control] in /usr/local/lib/python3.7/dist-packages (0.25.2)\n",
            "Requirement already satisfied: cloudpickle>=1.2.0 in /usr/local/lib/python3.7/dist-packages (from gym[classic_control]) (1.5.0)\n",
            "Requirement already satisfied: numpy>=1.18.0 in /usr/local/lib/python3.7/dist-packages (from gym[classic_control]) (1.21.6)\n",
            "Requirement already satisfied: gym-notices>=0.0.4 in /usr/local/lib/python3.7/dist-packages (from gym[classic_control]) (0.0.8)\n",
            "Requirement already satisfied: importlib-metadata>=4.8.0 in /usr/local/lib/python3.7/dist-packages (from gym[classic_control]) (4.13.0)\n",
            "Requirement already satisfied: pygame==2.1.0 in /usr/local/lib/python3.7/dist-packages (from gym[classic_control]) (2.1.0)\n",
            "Requirement already satisfied: zipp>=0.5 in /usr/local/lib/python3.7/dist-packages (from importlib-metadata>=4.8.0->gym[classic_control]) (3.9.0)\n",
            "Requirement already satisfied: typing-extensions>=3.6.4 in /usr/local/lib/python3.7/dist-packages (from importlib-metadata>=4.8.0->gym[classic_control]) (4.1.1)\n"
          ]
        }
      ]
    },
    {
      "cell_type": "code",
      "source": [
        "!pip install gym[box2d]"
      ],
      "metadata": {
        "colab": {
          "base_uri": "https://localhost:8080/"
        },
        "id": "btgKpqGLEB__",
        "outputId": "aea0ea9f-97ac-4774-aa3e-3683d79b98ce"
      },
      "execution_count": 6,
      "outputs": [
        {
          "output_type": "stream",
          "name": "stdout",
          "text": [
            "Looking in indexes: https://pypi.org/simple, https://us-python.pkg.dev/colab-wheels/public/simple/\n",
            "Requirement already satisfied: gym[box2d] in /usr/local/lib/python3.7/dist-packages (0.25.2)\n",
            "Requirement already satisfied: numpy>=1.18.0 in /usr/local/lib/python3.7/dist-packages (from gym[box2d]) (1.21.6)\n",
            "Requirement already satisfied: cloudpickle>=1.2.0 in /usr/local/lib/python3.7/dist-packages (from gym[box2d]) (1.5.0)\n",
            "Requirement already satisfied: gym-notices>=0.0.4 in /usr/local/lib/python3.7/dist-packages (from gym[box2d]) (0.0.8)\n",
            "Requirement already satisfied: importlib-metadata>=4.8.0 in /usr/local/lib/python3.7/dist-packages (from gym[box2d]) (4.13.0)\n",
            "Collecting box2d-py==2.3.5\n",
            "  Downloading box2d_py-2.3.5-cp37-cp37m-manylinux1_x86_64.whl (2.1 MB)\n",
            "\u001b[K     |████████████████████████████████| 2.1 MB 5.0 MB/s \n",
            "\u001b[?25hRequirement already satisfied: pygame==2.1.0 in /usr/local/lib/python3.7/dist-packages (from gym[box2d]) (2.1.0)\n",
            "Collecting swig==4.*\n",
            "  Downloading swig-4.1.0-py2.py3-none-manylinux_2_5_x86_64.manylinux1_x86_64.whl (1.8 MB)\n",
            "\u001b[K     |████████████████████████████████| 1.8 MB 33.8 MB/s \n",
            "\u001b[?25hRequirement already satisfied: typing-extensions>=3.6.4 in /usr/local/lib/python3.7/dist-packages (from importlib-metadata>=4.8.0->gym[box2d]) (4.1.1)\n",
            "Requirement already satisfied: zipp>=0.5 in /usr/local/lib/python3.7/dist-packages (from importlib-metadata>=4.8.0->gym[box2d]) (3.9.0)\n",
            "Installing collected packages: swig, box2d-py\n",
            "Successfully installed box2d-py-2.3.5 swig-4.1.0\n"
          ]
        }
      ]
    },
    {
      "cell_type": "code",
      "source": [
        "env = gym.make(\"CartPole-v1\")\n",
        "directory = './video'\n",
        "env = Recorder(env, directory)"
      ],
      "metadata": {
        "id": "9TaByqF2Cssb"
      },
      "execution_count": 7,
      "outputs": []
    },
    {
      "cell_type": "code",
      "source": [
        "observation = env.reset()\n",
        "terminal = False\n",
        "while not terminal:\n",
        "  action = env.action_space.sample()\n",
        "  observation, reward, terminal, info = env.step(action)\n",
        "\n",
        "env.play()"
      ],
      "metadata": {
        "colab": {
          "base_uri": "https://localhost:8080/",
          "height": 421
        },
        "id": "MafzOmqwCsqj",
        "outputId": "054cdb94-562b-4090-b7e6-f7d37460d576"
      },
      "execution_count": 8,
      "outputs": [
        {
          "output_type": "display_data",
          "data": {
            "text/plain": [
              "<IPython.core.display.Video object>"
            ],
            "text/html": [
              "<video controls  >\n",
              " <source src=\"data:video/mp4;base64,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\" type=\"video/mp4\">\n",
              " Your browser does not support the video tag.\n",
              " </video>"
            ]
          },
          "metadata": {}
        }
      ]
    },
    {
      "cell_type": "code",
      "source": [],
      "metadata": {
        "id": "A03JOdJUCso7"
      },
      "execution_count": null,
      "outputs": []
    },
    {
      "cell_type": "code",
      "source": [],
      "metadata": {
        "id": "NW_Ah4ckCsm0"
      },
      "execution_count": null,
      "outputs": []
    },
    {
      "cell_type": "code",
      "source": [],
      "metadata": {
        "id": "I5MpFnL3CsjP"
      },
      "execution_count": null,
      "outputs": []
    },
    {
      "cell_type": "code",
      "source": [],
      "metadata": {
        "id": "K9pa7DbHCsg9"
      },
      "execution_count": null,
      "outputs": []
    },
    {
      "cell_type": "code",
      "source": [
        "!pip install gym pyvirtualdisplay > /dev/null 2>&1\n",
        "!apt-get install -y xvfb python-opengl ffmpeg > /dev/null 2>&1\n",
        "!pip install colabgymrender==1.0.2"
      ],
      "metadata": {
        "colab": {
          "base_uri": "https://localhost:8080/"
        },
        "id": "uYlbisHYXnXY",
        "outputId": "ff97b5ab-cb1f-4669-89a8-ce5b466e2173"
      },
      "execution_count": null,
      "outputs": [
        {
          "output_type": "stream",
          "name": "stdout",
          "text": [
            "Looking in indexes: https://pypi.org/simple, https://us-python.pkg.dev/colab-wheels/public/simple/\n",
            "Collecting colabgymrender==1.0.2\n",
            "  Downloading colabgymrender-1.0.2.tar.gz (1.8 kB)\n",
            "Requirement already satisfied: pyvirtualdisplay in /usr/local/lib/python3.7/dist-packages (from colabgymrender==1.0.2) (3.0)\n",
            "Requirement already satisfied: moviepy in /usr/local/lib/python3.7/dist-packages (from colabgymrender==1.0.2) (0.2.3.5)\n",
            "Requirement already satisfied: gym in /usr/local/lib/python3.7/dist-packages (from colabgymrender==1.0.2) (0.25.2)\n",
            "Requirement already satisfied: opencv-python in /usr/local/lib/python3.7/dist-packages (from colabgymrender==1.0.2) (4.6.0.66)\n",
            "Requirement already satisfied: gym-notices>=0.0.4 in /usr/local/lib/python3.7/dist-packages (from gym->colabgymrender==1.0.2) (0.0.8)\n",
            "Requirement already satisfied: numpy>=1.18.0 in /usr/local/lib/python3.7/dist-packages (from gym->colabgymrender==1.0.2) (1.18.5)\n",
            "Requirement already satisfied: importlib-metadata>=4.8.0 in /usr/local/lib/python3.7/dist-packages (from gym->colabgymrender==1.0.2) (4.13.0)\n",
            "Requirement already satisfied: cloudpickle>=1.2.0 in /usr/local/lib/python3.7/dist-packages (from gym->colabgymrender==1.0.2) (1.5.0)\n",
            "Requirement already satisfied: typing-extensions>=3.6.4 in /usr/local/lib/python3.7/dist-packages (from importlib-metadata>=4.8.0->gym->colabgymrender==1.0.2) (4.1.1)\n",
            "Requirement already satisfied: zipp>=0.5 in /usr/local/lib/python3.7/dist-packages (from importlib-metadata>=4.8.0->gym->colabgymrender==1.0.2) (3.9.0)\n",
            "Requirement already satisfied: imageio<3.0,>=2.1.2 in /usr/local/lib/python3.7/dist-packages (from moviepy->colabgymrender==1.0.2) (2.9.0)\n",
            "Requirement already satisfied: decorator<5.0,>=4.0.2 in /usr/local/lib/python3.7/dist-packages (from moviepy->colabgymrender==1.0.2) (4.4.2)\n",
            "Requirement already satisfied: tqdm<5.0,>=4.11.2 in /usr/local/lib/python3.7/dist-packages (from moviepy->colabgymrender==1.0.2) (4.64.1)\n",
            "Requirement already satisfied: pillow in /usr/local/lib/python3.7/dist-packages (from imageio<3.0,>=2.1.2->moviepy->colabgymrender==1.0.2) (7.1.2)\n",
            "Building wheels for collected packages: colabgymrender\n",
            "  Building wheel for colabgymrender (setup.py) ... \u001b[?25l\u001b[?25hdone\n",
            "  Created wheel for colabgymrender: filename=colabgymrender-1.0.2-py3-none-any.whl size=2446 sha256=b6e7d84ec4f138973b2e29d49fe5c5c8aaee47798b540851edda4319ae469e5f\n",
            "  Stored in directory: /root/.cache/pip/wheels/1f/56/73/3697080da5fc7b120516aef37d1d1eb2380515ba9e272b8ccd\n",
            "Successfully built colabgymrender\n",
            "Installing collected packages: colabgymrender\n",
            "Successfully installed colabgymrender-1.0.2\n"
          ]
        }
      ]
    },
    {
      "cell_type": "code",
      "source": [
        "!pip install --upgrade imageio-ffmpeg"
      ],
      "metadata": {
        "colab": {
          "base_uri": "https://localhost:8080/"
        },
        "id": "KFUEGyMSYw-Q",
        "outputId": "b99956d0-3b84-49c5-bf25-fe32acfd63c9"
      },
      "execution_count": null,
      "outputs": [
        {
          "output_type": "stream",
          "name": "stdout",
          "text": [
            "Looking in indexes: https://pypi.org/simple, https://us-python.pkg.dev/colab-wheels/public/simple/\n",
            "Collecting imageio-ffmpeg\n",
            "  Downloading imageio_ffmpeg-0.4.7-py3-none-manylinux2010_x86_64.whl (26.9 MB)\n",
            "\u001b[K     |████████████████████████████████| 26.9 MB 2.9 MB/s \n",
            "\u001b[?25hInstalling collected packages: imageio-ffmpeg\n",
            "Successfully installed imageio-ffmpeg-0.4.7\n"
          ]
        }
      ]
    },
    {
      "cell_type": "code",
      "source": [
        "!pip install imageio-ffmpeg"
      ],
      "metadata": {
        "colab": {
          "base_uri": "https://localhost:8080/"
        },
        "id": "_ZRef8tjZwTi",
        "outputId": "0b91eb76-8d55-473f-e60a-e601445cdd15"
      },
      "execution_count": null,
      "outputs": [
        {
          "output_type": "stream",
          "name": "stdout",
          "text": [
            "Looking in indexes: https://pypi.org/simple, https://us-python.pkg.dev/colab-wheels/public/simple/\n",
            "Requirement already satisfied: imageio-ffmpeg in /usr/local/lib/python3.7/dist-packages (0.4.7)\n"
          ]
        }
      ]
    },
    {
      "cell_type": "code",
      "source": [
        "!pip install colabgymrender==1.1.0"
      ],
      "metadata": {
        "colab": {
          "base_uri": "https://localhost:8080/",
          "height": 471
        },
        "id": "0j-8f9TEbolT",
        "outputId": "730b6af7-e5e2-47cb-de9f-59302dec78ed"
      },
      "execution_count": null,
      "outputs": [
        {
          "output_type": "stream",
          "name": "stdout",
          "text": [
            "Looking in indexes: https://pypi.org/simple, https://us-python.pkg.dev/colab-wheels/public/simple/\n",
            "Collecting colabgymrender==1.1.0\n",
            "  Downloading colabgymrender-1.1.0.tar.gz (3.5 kB)\n",
            "Requirement already satisfied: moviepy in /usr/local/lib/python3.7/dist-packages (from colabgymrender==1.1.0) (0.2.3.5)\n",
            "Requirement already satisfied: tqdm<5.0,>=4.11.2 in /usr/local/lib/python3.7/dist-packages (from moviepy->colabgymrender==1.1.0) (4.64.1)\n",
            "Requirement already satisfied: imageio<3.0,>=2.1.2 in /usr/local/lib/python3.7/dist-packages (from moviepy->colabgymrender==1.1.0) (2.9.0)\n",
            "Requirement already satisfied: decorator<5.0,>=4.0.2 in /usr/local/lib/python3.7/dist-packages (from moviepy->colabgymrender==1.1.0) (4.4.2)\n",
            "Requirement already satisfied: numpy in /usr/local/lib/python3.7/dist-packages (from moviepy->colabgymrender==1.1.0) (1.18.5)\n",
            "Requirement already satisfied: pillow in /usr/local/lib/python3.7/dist-packages (from imageio<3.0,>=2.1.2->moviepy->colabgymrender==1.1.0) (7.1.2)\n",
            "Building wheels for collected packages: colabgymrender\n",
            "  Building wheel for colabgymrender (setup.py) ... \u001b[?25l\u001b[?25hdone\n",
            "  Created wheel for colabgymrender: filename=colabgymrender-1.1.0-py3-none-any.whl size=3132 sha256=28ecc86a909e12884eb08c4fb4041a01d692d8a6973d6e30dc5839b7b4bdc1ca\n",
            "  Stored in directory: /root/.cache/pip/wheels/f1/0a/2a/86955ea711b461ab7918236fed2568733f75ed677d0524b56c\n",
            "Successfully built colabgymrender\n",
            "Installing collected packages: colabgymrender\n",
            "  Attempting uninstall: colabgymrender\n",
            "    Found existing installation: colabgymrender 1.0.2\n",
            "    Uninstalling colabgymrender-1.0.2:\n",
            "      Successfully uninstalled colabgymrender-1.0.2\n",
            "Successfully installed colabgymrender-1.1.0\n"
          ]
        },
        {
          "output_type": "display_data",
          "data": {
            "application/vnd.colab-display-data+json": {
              "pip_warning": {
                "packages": [
                  "colabgymrender"
                ]
              }
            }
          },
          "metadata": {}
        }
      ]
    },
    {
      "cell_type": "code",
      "source": [
        "import gym\n",
        "import colabgymrender\n",
        "from colabgymrender.recorder import Recorder\n",
        "\n",
        "env = gym.make(\"Qbert-v0\")\n",
        "directory = './video'\n",
        "env = Recorder(env, directory)\n",
        "\n",
        "observation = env.reset()\n",
        "terminal = False\n",
        "while not terminal:\n",
        "  action = env.action_space.sample()\n",
        "  observation, reward, terminal, info = env.step(action)\n",
        "\n",
        "env.play()"
      ],
      "metadata": {
        "colab": {
          "base_uri": "https://localhost:8080/",
          "height": 381
        },
        "id": "Bjk5Qr28YXdG",
        "outputId": "ccffca2a-3309-435b-f0ae-3667a858004c"
      },
      "execution_count": null,
      "outputs": [
        {
          "output_type": "error",
          "ename": "RuntimeError",
          "evalue": "ignored",
          "traceback": [
            "\u001b[0;31m---------------------------------------------------------------------------\u001b[0m",
            "\u001b[0;31mRuntimeError\u001b[0m                              Traceback (most recent call last)",
            "\u001b[0;32m<ipython-input-1-590955d3bafd>\u001b[0m in \u001b[0;36m<module>\u001b[0;34m\u001b[0m\n\u001b[1;32m      1\u001b[0m \u001b[0;32mimport\u001b[0m \u001b[0mgym\u001b[0m\u001b[0;34m\u001b[0m\u001b[0;34m\u001b[0m\u001b[0m\n\u001b[1;32m      2\u001b[0m \u001b[0;32mimport\u001b[0m \u001b[0mcolabgymrender\u001b[0m\u001b[0;34m\u001b[0m\u001b[0;34m\u001b[0m\u001b[0m\n\u001b[0;32m----> 3\u001b[0;31m \u001b[0;32mfrom\u001b[0m \u001b[0mcolabgymrender\u001b[0m\u001b[0;34m.\u001b[0m\u001b[0mrecorder\u001b[0m \u001b[0;32mimport\u001b[0m \u001b[0mRecorder\u001b[0m\u001b[0;34m\u001b[0m\u001b[0;34m\u001b[0m\u001b[0m\n\u001b[0m\u001b[1;32m      4\u001b[0m \u001b[0;34m\u001b[0m\u001b[0m\n\u001b[1;32m      5\u001b[0m \u001b[0menv\u001b[0m \u001b[0;34m=\u001b[0m \u001b[0mgym\u001b[0m\u001b[0;34m.\u001b[0m\u001b[0mmake\u001b[0m\u001b[0;34m(\u001b[0m\u001b[0;34m\"Qbert-v0\"\u001b[0m\u001b[0;34m)\u001b[0m\u001b[0;34m\u001b[0m\u001b[0;34m\u001b[0m\u001b[0m\n",
            "\u001b[0;32m/usr/local/lib/python3.7/dist-packages/colabgymrender/recorder.py\u001b[0m in \u001b[0;36m<module>\u001b[0;34m\u001b[0m\n\u001b[1;32m      1\u001b[0m \u001b[0;32mfrom\u001b[0m \u001b[0mIPython\u001b[0m\u001b[0;34m.\u001b[0m\u001b[0mcore\u001b[0m\u001b[0;34m.\u001b[0m\u001b[0mdisplay\u001b[0m \u001b[0;32mimport\u001b[0m \u001b[0mVideo\u001b[0m\u001b[0;34m,\u001b[0m \u001b[0mdisplay\u001b[0m\u001b[0;34m\u001b[0m\u001b[0;34m\u001b[0m\u001b[0m\n\u001b[0;32m----> 2\u001b[0;31m \u001b[0;32mfrom\u001b[0m \u001b[0mmoviepy\u001b[0m\u001b[0;34m.\u001b[0m\u001b[0meditor\u001b[0m \u001b[0;32mimport\u001b[0m \u001b[0;34m*\u001b[0m\u001b[0;34m\u001b[0m\u001b[0;34m\u001b[0m\u001b[0m\n\u001b[0m\u001b[1;32m      3\u001b[0m \u001b[0;32mimport\u001b[0m \u001b[0mtime\u001b[0m\u001b[0;34m\u001b[0m\u001b[0;34m\u001b[0m\u001b[0m\n\u001b[1;32m      4\u001b[0m \u001b[0;32mimport\u001b[0m \u001b[0mcv2\u001b[0m\u001b[0;34m\u001b[0m\u001b[0;34m\u001b[0m\u001b[0m\n\u001b[1;32m      5\u001b[0m \u001b[0;32mimport\u001b[0m \u001b[0mgym\u001b[0m\u001b[0;34m\u001b[0m\u001b[0;34m\u001b[0m\u001b[0m\n",
            "\u001b[0;32m/usr/local/lib/python3.7/dist-packages/moviepy/editor.py\u001b[0m in \u001b[0;36m<module>\u001b[0;34m\u001b[0m\n\u001b[1;32m     24\u001b[0m \u001b[0;31m# Checks to see if the user has set a place for their own version of ffmpeg\u001b[0m\u001b[0;34m\u001b[0m\u001b[0;34m\u001b[0m\u001b[0;34m\u001b[0m\u001b[0m\n\u001b[1;32m     25\u001b[0m \u001b[0;32mif\u001b[0m \u001b[0mos\u001b[0m\u001b[0;34m.\u001b[0m\u001b[0mgetenv\u001b[0m\u001b[0;34m(\u001b[0m\u001b[0;34m'FFMPEG_BINARY'\u001b[0m\u001b[0;34m,\u001b[0m \u001b[0;34m'ffmpeg-imageio'\u001b[0m\u001b[0;34m)\u001b[0m \u001b[0;34m==\u001b[0m \u001b[0;34m'ffmpeg-imageio'\u001b[0m\u001b[0;34m:\u001b[0m\u001b[0;34m\u001b[0m\u001b[0;34m\u001b[0m\u001b[0m\n\u001b[0;32m---> 26\u001b[0;31m     \u001b[0mimageio\u001b[0m\u001b[0;34m.\u001b[0m\u001b[0mplugins\u001b[0m\u001b[0;34m.\u001b[0m\u001b[0mffmpeg\u001b[0m\u001b[0;34m.\u001b[0m\u001b[0mdownload\u001b[0m\u001b[0;34m(\u001b[0m\u001b[0;34m)\u001b[0m\u001b[0;34m\u001b[0m\u001b[0;34m\u001b[0m\u001b[0m\n\u001b[0m\u001b[1;32m     27\u001b[0m \u001b[0;34m\u001b[0m\u001b[0m\n\u001b[1;32m     28\u001b[0m \u001b[0;31m# Clips\u001b[0m\u001b[0;34m\u001b[0m\u001b[0;34m\u001b[0m\u001b[0;34m\u001b[0m\u001b[0m\n",
            "\u001b[0;32m/usr/local/lib/python3.7/dist-packages/imageio/plugins/ffmpeg.py\u001b[0m in \u001b[0;36mdownload\u001b[0;34m(directory, force_download)\u001b[0m\n\u001b[1;32m     36\u001b[0m \u001b[0;32mdef\u001b[0m \u001b[0mdownload\u001b[0m\u001b[0;34m(\u001b[0m\u001b[0mdirectory\u001b[0m\u001b[0;34m=\u001b[0m\u001b[0;32mNone\u001b[0m\u001b[0;34m,\u001b[0m \u001b[0mforce_download\u001b[0m\u001b[0;34m=\u001b[0m\u001b[0;32mFalse\u001b[0m\u001b[0;34m)\u001b[0m\u001b[0;34m:\u001b[0m  \u001b[0;31m# pragma: no cover\u001b[0m\u001b[0;34m\u001b[0m\u001b[0;34m\u001b[0m\u001b[0m\n\u001b[1;32m     37\u001b[0m     raise RuntimeError(\n\u001b[0;32m---> 38\u001b[0;31m         \u001b[0;34m\"imageio.ffmpeg.download() has been deprecated. \"\u001b[0m\u001b[0;34m\u001b[0m\u001b[0;34m\u001b[0m\u001b[0m\n\u001b[0m\u001b[1;32m     39\u001b[0m         \u001b[0;34m\"Use 'pip install imageio-ffmpeg' instead.'\"\u001b[0m\u001b[0;34m\u001b[0m\u001b[0;34m\u001b[0m\u001b[0m\n\u001b[1;32m     40\u001b[0m     )\n",
            "\u001b[0;31mRuntimeError\u001b[0m: imageio.ffmpeg.download() has been deprecated. Use 'pip install imageio-ffmpeg' instead.'"
          ]
        }
      ]
    },
    {
      "cell_type": "code",
      "source": [
        "!apt-get install -y xvfb x11-utils"
      ],
      "metadata": {
        "colab": {
          "base_uri": "https://localhost:8080/"
        },
        "id": "2n0cRlcrYnEn",
        "outputId": "639fb353-96cf-48f6-8ef0-4b6a692eeb5a"
      },
      "execution_count": null,
      "outputs": [
        {
          "output_type": "stream",
          "name": "stdout",
          "text": [
            "Reading package lists... Done\n",
            "Building dependency tree       \n",
            "Reading state information... Done\n",
            "x11-utils is already the newest version (7.7+3build1).\n",
            "xvfb is already the newest version (2:1.19.6-1ubuntu4.11).\n",
            "The following package was automatically installed and is no longer required:\n",
            "  libnvidia-common-460\n",
            "Use 'apt autoremove' to remove it.\n",
            "0 upgraded, 0 newly installed, 0 to remove and 29 not upgraded.\n"
          ]
        }
      ]
    },
    {
      "cell_type": "code",
      "source": [
        "!pip install pyvirtualdisplay==0.2.* \\\n",
        "             PyOpenGL==3.1.* \\\n",
        "             PyOpenGL-accelerate==3.1.*"
      ],
      "metadata": {
        "colab": {
          "base_uri": "https://localhost:8080/"
        },
        "id": "H78egQ_ac4Jv",
        "outputId": "a8ea0844-2cc6-40af-a13f-bd2eec16cc20"
      },
      "execution_count": null,
      "outputs": [
        {
          "output_type": "stream",
          "name": "stdout",
          "text": [
            "Looking in indexes: https://pypi.org/simple, https://us-python.pkg.dev/colab-wheels/public/simple/\n",
            "Collecting pyvirtualdisplay==0.2.*\n",
            "  Downloading PyVirtualDisplay-0.2.5-py2.py3-none-any.whl (13 kB)\n",
            "Requirement already satisfied: PyOpenGL==3.1.* in /usr/local/lib/python3.7/dist-packages (3.1.6)\n",
            "Collecting PyOpenGL-accelerate==3.1.*\n",
            "  Downloading PyOpenGL-accelerate-3.1.5.tar.gz (538 kB)\n",
            "\u001b[K     |████████████████████████████████| 538 kB 6.7 MB/s \n",
            "\u001b[?25hCollecting EasyProcess\n",
            "  Downloading EasyProcess-1.1-py3-none-any.whl (8.7 kB)\n",
            "Building wheels for collected packages: PyOpenGL-accelerate\n",
            "  Building wheel for PyOpenGL-accelerate (setup.py) ... \u001b[?25l\u001b[?25hdone\n",
            "  Created wheel for PyOpenGL-accelerate: filename=PyOpenGL_accelerate-3.1.5-cp37-cp37m-linux_x86_64.whl size=1599524 sha256=cc357bc3a4e9145c88b12db6bd80f02b8df228c043c1d6f490a7e8c85ee190c4\n",
            "  Stored in directory: /root/.cache/pip/wheels/1c/f5/6f/169afb3f2d476c5e807f8515b3c9bc9b819c3962316aa804eb\n",
            "Successfully built PyOpenGL-accelerate\n",
            "Installing collected packages: EasyProcess, pyvirtualdisplay, PyOpenGL-accelerate\n",
            "  Attempting uninstall: pyvirtualdisplay\n",
            "    Found existing installation: PyVirtualDisplay 3.0\n",
            "    Uninstalling PyVirtualDisplay-3.0:\n",
            "      Successfully uninstalled PyVirtualDisplay-3.0\n",
            "Successfully installed EasyProcess-1.1 PyOpenGL-accelerate-3.1.5 pyvirtualdisplay-0.2.5\n"
          ]
        }
      ]
    },
    {
      "cell_type": "code",
      "source": [
        "!pip install gym[box2d]==0.17.*"
      ],
      "metadata": {
        "colab": {
          "base_uri": "https://localhost:8080/",
          "height": 607
        },
        "id": "0tDjF_Zgc_FF",
        "outputId": "f1e5c9db-a12b-4cd3-a9a2-21efa4539df3"
      },
      "execution_count": null,
      "outputs": [
        {
          "output_type": "stream",
          "name": "stdout",
          "text": [
            "Looking in indexes: https://pypi.org/simple, https://us-python.pkg.dev/colab-wheels/public/simple/\n",
            "Collecting gym[box2d]==0.17.*\n",
            "  Downloading gym-0.17.3.tar.gz (1.6 MB)\n",
            "\u001b[K     |████████████████████████████████| 1.6 MB 7.8 MB/s \n",
            "\u001b[?25hRequirement already satisfied: scipy in /usr/local/lib/python3.7/dist-packages (from gym[box2d]==0.17.*) (1.4.1)\n",
            "Requirement already satisfied: numpy>=1.10.4 in /usr/local/lib/python3.7/dist-packages (from gym[box2d]==0.17.*) (1.18.5)\n",
            "Collecting pyglet<=1.5.0,>=1.4.0\n",
            "  Downloading pyglet-1.5.0-py2.py3-none-any.whl (1.0 MB)\n",
            "\u001b[K     |████████████████████████████████| 1.0 MB 37.8 MB/s \n",
            "\u001b[?25hRequirement already satisfied: cloudpickle<1.7.0,>=1.2.0 in /usr/local/lib/python3.7/dist-packages (from gym[box2d]==0.17.*) (1.5.0)\n",
            "Collecting box2d-py~=2.3.5\n",
            "  Downloading box2d_py-2.3.8-cp37-cp37m-manylinux1_x86_64.whl (448 kB)\n",
            "\u001b[K     |████████████████████████████████| 448 kB 48.4 MB/s \n",
            "\u001b[?25hRequirement already satisfied: future in /usr/local/lib/python3.7/dist-packages (from pyglet<=1.5.0,>=1.4.0->gym[box2d]==0.17.*) (0.16.0)\n",
            "Building wheels for collected packages: gym\n",
            "  Building wheel for gym (setup.py) ... \u001b[?25l\u001b[?25hdone\n",
            "  Created wheel for gym: filename=gym-0.17.3-py3-none-any.whl size=1654653 sha256=39cab090076bc885aa3da1cb444fc0f089639123a9f7b9b94655cb385d171c8b\n",
            "  Stored in directory: /root/.cache/pip/wheels/d1/81/4b/dd9c029691022cb957398d1f015e66b75e37637dda61abdf58\n",
            "Successfully built gym\n",
            "Installing collected packages: pyglet, gym, box2d-py\n",
            "  Attempting uninstall: pyglet\n",
            "    Found existing installation: pyglet 1.5.27\n",
            "    Uninstalling pyglet-1.5.27:\n",
            "      Successfully uninstalled pyglet-1.5.27\n",
            "  Attempting uninstall: gym\n",
            "    Found existing installation: gym 0.25.2\n",
            "    Uninstalling gym-0.25.2:\n",
            "      Successfully uninstalled gym-0.25.2\n",
            "Successfully installed box2d-py-2.3.8 gym-0.17.3 pyglet-1.5.0\n"
          ]
        },
        {
          "output_type": "display_data",
          "data": {
            "application/vnd.colab-display-data+json": {
              "pip_warning": {
                "packages": [
                  "gym"
                ]
              }
            }
          },
          "metadata": {}
        }
      ]
    },
    {
      "cell_type": "code",
      "source": [
        "!echo $DISPLAY"
      ],
      "metadata": {
        "colab": {
          "base_uri": "https://localhost:8080/"
        },
        "id": "TeXKkmdidKuM",
        "outputId": "0892200e-d837-42e2-d883-43afd9b1076d"
      },
      "execution_count": null,
      "outputs": [
        {
          "output_type": "stream",
          "name": "stdout",
          "text": [
            "\n"
          ]
        }
      ]
    },
    {
      "cell_type": "code",
      "source": [
        "!pip install gymnasium"
      ],
      "metadata": {
        "colab": {
          "base_uri": "https://localhost:8080/"
        },
        "id": "1YJeEAmBdRF8",
        "outputId": "05bf524c-8c00-4944-95fc-cdc46e5ef073"
      },
      "execution_count": null,
      "outputs": [
        {
          "output_type": "stream",
          "name": "stdout",
          "text": [
            "Looking in indexes: https://pypi.org/simple, https://us-python.pkg.dev/colab-wheels/public/simple/\n",
            "Collecting gymnasium\n",
            "  Downloading Gymnasium-0.26.3-py3-none-any.whl (836 kB)\n",
            "\u001b[K     |████████████████████████████████| 836 kB 5.5 MB/s \n",
            "\u001b[?25hRequirement already satisfied: importlib-metadata>=4.8.0 in /usr/local/lib/python3.7/dist-packages (from gymnasium) (4.13.0)\n",
            "Requirement already satisfied: cloudpickle>=1.2.0 in /usr/local/lib/python3.7/dist-packages (from gymnasium) (1.5.0)\n",
            "Requirement already satisfied: numpy>=1.18.0 in /usr/local/lib/python3.7/dist-packages (from gymnasium) (1.21.6)\n",
            "Collecting gymnasium-notices>=0.0.1\n",
            "  Downloading gymnasium_notices-0.0.1-py3-none-any.whl (2.8 kB)\n",
            "Requirement already satisfied: zipp>=0.5 in /usr/local/lib/python3.7/dist-packages (from importlib-metadata>=4.8.0->gymnasium) (3.9.0)\n",
            "Requirement already satisfied: typing-extensions>=3.6.4 in /usr/local/lib/python3.7/dist-packages (from importlib-metadata>=4.8.0->gymnasium) (4.1.1)\n",
            "Installing collected packages: gymnasium-notices, gymnasium\n",
            "Successfully installed gymnasium-0.26.3 gymnasium-notices-0.0.1\n"
          ]
        }
      ]
    },
    {
      "cell_type": "code",
      "source": [
        "!pip install gymnasium[box2d]"
      ],
      "metadata": {
        "colab": {
          "base_uri": "https://localhost:8080/"
        },
        "id": "KUj-D0DdsiDM",
        "outputId": "a5ae76af-8d43-490d-eb44-6fefba4f83df"
      },
      "execution_count": null,
      "outputs": [
        {
          "output_type": "stream",
          "name": "stdout",
          "text": [
            "Looking in indexes: https://pypi.org/simple, https://us-python.pkg.dev/colab-wheels/public/simple/\n",
            "Requirement already satisfied: gymnasium[box2d] in /usr/local/lib/python3.7/dist-packages (0.26.3)\n",
            "Requirement already satisfied: importlib-metadata>=4.8.0 in /usr/local/lib/python3.7/dist-packages (from gymnasium[box2d]) (4.13.0)\n",
            "Requirement already satisfied: gymnasium-notices>=0.0.1 in /usr/local/lib/python3.7/dist-packages (from gymnasium[box2d]) (0.0.1)\n",
            "Requirement already satisfied: cloudpickle>=1.2.0 in /usr/local/lib/python3.7/dist-packages (from gymnasium[box2d]) (1.5.0)\n",
            "Requirement already satisfied: numpy>=1.18.0 in /usr/local/lib/python3.7/dist-packages (from gymnasium[box2d]) (1.21.6)\n",
            "Collecting box2d-py==2.3.5\n",
            "  Downloading box2d_py-2.3.5-cp37-cp37m-manylinux1_x86_64.whl (2.1 MB)\n",
            "\u001b[K     |████████████████████████████████| 2.1 MB 5.4 MB/s \n",
            "\u001b[?25hCollecting swig==4.*\n",
            "  Downloading swig-4.1.0-py2.py3-none-manylinux_2_5_x86_64.manylinux1_x86_64.whl (1.8 MB)\n",
            "\u001b[K     |████████████████████████████████| 1.8 MB 41.7 MB/s \n",
            "\u001b[?25hCollecting pygame==2.1.0\n",
            "  Downloading pygame-2.1.0-cp37-cp37m-manylinux_2_17_x86_64.manylinux2014_x86_64.whl (18.3 MB)\n",
            "\u001b[K     |████████████████████████████████| 18.3 MB 1.2 MB/s \n",
            "\u001b[?25hRequirement already satisfied: typing-extensions>=3.6.4 in /usr/local/lib/python3.7/dist-packages (from importlib-metadata>=4.8.0->gymnasium[box2d]) (4.1.1)\n",
            "Requirement already satisfied: zipp>=0.5 in /usr/local/lib/python3.7/dist-packages (from importlib-metadata>=4.8.0->gymnasium[box2d]) (3.9.0)\n",
            "Installing collected packages: swig, pygame, box2d-py\n",
            "Successfully installed box2d-py-2.3.5 pygame-2.1.0 swig-4.1.0\n"
          ]
        }
      ]
    },
    {
      "cell_type": "code",
      "source": [
        "import gymnasium as gym\n",
        "env = gym.make(\"LunarLander-v2\",render_mode=\"human\")\n",
        "\n",
        "observation, info = env.reset()\n",
        "for _ in range(1000):\n",
        "    action = env.action_space.sample()\n",
        "    observation, reward, terminated, truncated, info = env.step(action)\n",
        "    #env.render()\n",
        "    if terminated or truncated:\n",
        "        observation, info = env.reset()\n",
        "env.close()"
      ],
      "metadata": {
        "colab": {
          "base_uri": "https://localhost:8080/",
          "height": 381
        },
        "id": "nevUvtQ-sRhs",
        "outputId": "3deb4ddd-8a3e-4b04-8387-ab40829426f2"
      },
      "execution_count": null,
      "outputs": [
        {
          "output_type": "error",
          "ename": "error",
          "evalue": "ignored",
          "traceback": [
            "\u001b[0;31m---------------------------------------------------------------------------\u001b[0m",
            "\u001b[0;31merror\u001b[0m                                     Traceback (most recent call last)",
            "\u001b[0;32m<ipython-input-4-9684925b3a9d>\u001b[0m in \u001b[0;36m<module>\u001b[0;34m\u001b[0m\n\u001b[1;32m      2\u001b[0m \u001b[0menv\u001b[0m \u001b[0;34m=\u001b[0m \u001b[0mgym\u001b[0m\u001b[0;34m.\u001b[0m\u001b[0mmake\u001b[0m\u001b[0;34m(\u001b[0m\u001b[0;34m\"LunarLander-v2\"\u001b[0m\u001b[0;34m,\u001b[0m\u001b[0mrender_mode\u001b[0m\u001b[0;34m=\u001b[0m\u001b[0;34m\"human\"\u001b[0m\u001b[0;34m)\u001b[0m\u001b[0;34m\u001b[0m\u001b[0;34m\u001b[0m\u001b[0m\n\u001b[1;32m      3\u001b[0m \u001b[0;34m\u001b[0m\u001b[0m\n\u001b[0;32m----> 4\u001b[0;31m \u001b[0mobservation\u001b[0m\u001b[0;34m,\u001b[0m \u001b[0minfo\u001b[0m \u001b[0;34m=\u001b[0m \u001b[0menv\u001b[0m\u001b[0;34m.\u001b[0m\u001b[0mreset\u001b[0m\u001b[0;34m(\u001b[0m\u001b[0;34m)\u001b[0m\u001b[0;34m\u001b[0m\u001b[0;34m\u001b[0m\u001b[0m\n\u001b[0m\u001b[1;32m      5\u001b[0m \u001b[0;32mfor\u001b[0m \u001b[0m_\u001b[0m \u001b[0;32min\u001b[0m \u001b[0mrange\u001b[0m\u001b[0;34m(\u001b[0m\u001b[0;36m1000\u001b[0m\u001b[0;34m)\u001b[0m\u001b[0;34m:\u001b[0m\u001b[0;34m\u001b[0m\u001b[0;34m\u001b[0m\u001b[0m\n\u001b[1;32m      6\u001b[0m     \u001b[0maction\u001b[0m \u001b[0;34m=\u001b[0m \u001b[0menv\u001b[0m\u001b[0;34m.\u001b[0m\u001b[0maction_space\u001b[0m\u001b[0;34m.\u001b[0m\u001b[0msample\u001b[0m\u001b[0;34m(\u001b[0m\u001b[0;34m)\u001b[0m\u001b[0;34m\u001b[0m\u001b[0;34m\u001b[0m\u001b[0m\n",
            "\u001b[0;32m/usr/local/lib/python3.7/dist-packages/gymnasium/wrappers/time_limit.py\u001b[0m in \u001b[0;36mreset\u001b[0;34m(self, **kwargs)\u001b[0m\n\u001b[1;32m     66\u001b[0m         \"\"\"\n\u001b[1;32m     67\u001b[0m         \u001b[0mself\u001b[0m\u001b[0;34m.\u001b[0m\u001b[0m_elapsed_steps\u001b[0m \u001b[0;34m=\u001b[0m \u001b[0;36m0\u001b[0m\u001b[0;34m\u001b[0m\u001b[0;34m\u001b[0m\u001b[0m\n\u001b[0;32m---> 68\u001b[0;31m         \u001b[0;32mreturn\u001b[0m \u001b[0mself\u001b[0m\u001b[0;34m.\u001b[0m\u001b[0menv\u001b[0m\u001b[0;34m.\u001b[0m\u001b[0mreset\u001b[0m\u001b[0;34m(\u001b[0m\u001b[0;34m**\u001b[0m\u001b[0mkwargs\u001b[0m\u001b[0;34m)\u001b[0m\u001b[0;34m\u001b[0m\u001b[0;34m\u001b[0m\u001b[0m\n\u001b[0m",
            "\u001b[0;32m/usr/local/lib/python3.7/dist-packages/gymnasium/wrappers/order_enforcing.py\u001b[0m in \u001b[0;36mreset\u001b[0;34m(self, **kwargs)\u001b[0m\n\u001b[1;32m     40\u001b[0m         \u001b[0;34m\"\"\"Resets the environment with `kwargs`.\"\"\"\u001b[0m\u001b[0;34m\u001b[0m\u001b[0;34m\u001b[0m\u001b[0m\n\u001b[1;32m     41\u001b[0m         \u001b[0mself\u001b[0m\u001b[0;34m.\u001b[0m\u001b[0m_has_reset\u001b[0m \u001b[0;34m=\u001b[0m \u001b[0;32mTrue\u001b[0m\u001b[0;34m\u001b[0m\u001b[0;34m\u001b[0m\u001b[0m\n\u001b[0;32m---> 42\u001b[0;31m         \u001b[0;32mreturn\u001b[0m \u001b[0mself\u001b[0m\u001b[0;34m.\u001b[0m\u001b[0menv\u001b[0m\u001b[0;34m.\u001b[0m\u001b[0mreset\u001b[0m\u001b[0;34m(\u001b[0m\u001b[0;34m**\u001b[0m\u001b[0mkwargs\u001b[0m\u001b[0;34m)\u001b[0m\u001b[0;34m\u001b[0m\u001b[0;34m\u001b[0m\u001b[0m\n\u001b[0m\u001b[1;32m     43\u001b[0m \u001b[0;34m\u001b[0m\u001b[0m\n\u001b[1;32m     44\u001b[0m     \u001b[0;32mdef\u001b[0m \u001b[0mrender\u001b[0m\u001b[0;34m(\u001b[0m\u001b[0mself\u001b[0m\u001b[0;34m,\u001b[0m \u001b[0;34m*\u001b[0m\u001b[0margs\u001b[0m\u001b[0;34m,\u001b[0m \u001b[0;34m**\u001b[0m\u001b[0mkwargs\u001b[0m\u001b[0;34m)\u001b[0m\u001b[0;34m:\u001b[0m\u001b[0;34m\u001b[0m\u001b[0;34m\u001b[0m\u001b[0m\n",
            "\u001b[0;32m/usr/local/lib/python3.7/dist-packages/gymnasium/wrappers/env_checker.py\u001b[0m in \u001b[0;36mreset\u001b[0;34m(self, **kwargs)\u001b[0m\n\u001b[1;32m     43\u001b[0m         \u001b[0;32mif\u001b[0m \u001b[0mself\u001b[0m\u001b[0;34m.\u001b[0m\u001b[0mchecked_reset\u001b[0m \u001b[0;32mis\u001b[0m \u001b[0;32mFalse\u001b[0m\u001b[0;34m:\u001b[0m\u001b[0;34m\u001b[0m\u001b[0;34m\u001b[0m\u001b[0m\n\u001b[1;32m     44\u001b[0m             \u001b[0mself\u001b[0m\u001b[0;34m.\u001b[0m\u001b[0mchecked_reset\u001b[0m \u001b[0;34m=\u001b[0m \u001b[0;32mTrue\u001b[0m\u001b[0;34m\u001b[0m\u001b[0;34m\u001b[0m\u001b[0m\n\u001b[0;32m---> 45\u001b[0;31m             \u001b[0;32mreturn\u001b[0m \u001b[0menv_reset_passive_checker\u001b[0m\u001b[0;34m(\u001b[0m\u001b[0mself\u001b[0m\u001b[0;34m.\u001b[0m\u001b[0menv\u001b[0m\u001b[0;34m,\u001b[0m \u001b[0;34m**\u001b[0m\u001b[0mkwargs\u001b[0m\u001b[0;34m)\u001b[0m\u001b[0;34m\u001b[0m\u001b[0;34m\u001b[0m\u001b[0m\n\u001b[0m\u001b[1;32m     46\u001b[0m         \u001b[0;32melse\u001b[0m\u001b[0;34m:\u001b[0m\u001b[0;34m\u001b[0m\u001b[0;34m\u001b[0m\u001b[0m\n\u001b[1;32m     47\u001b[0m             \u001b[0;32mreturn\u001b[0m \u001b[0mself\u001b[0m\u001b[0;34m.\u001b[0m\u001b[0menv\u001b[0m\u001b[0;34m.\u001b[0m\u001b[0mreset\u001b[0m\u001b[0;34m(\u001b[0m\u001b[0;34m**\u001b[0m\u001b[0mkwargs\u001b[0m\u001b[0;34m)\u001b[0m\u001b[0;34m\u001b[0m\u001b[0;34m\u001b[0m\u001b[0m\n",
            "\u001b[0;32m/usr/local/lib/python3.7/dist-packages/gymnasium/utils/passive_env_checker.py\u001b[0m in \u001b[0;36menv_reset_passive_checker\u001b[0;34m(env, **kwargs)\u001b[0m\n\u001b[1;32m    190\u001b[0m \u001b[0;34m\u001b[0m\u001b[0m\n\u001b[1;32m    191\u001b[0m     \u001b[0;31m# Checks the result of env.reset with kwargs\u001b[0m\u001b[0;34m\u001b[0m\u001b[0;34m\u001b[0m\u001b[0;34m\u001b[0m\u001b[0m\n\u001b[0;32m--> 192\u001b[0;31m     \u001b[0mresult\u001b[0m \u001b[0;34m=\u001b[0m \u001b[0menv\u001b[0m\u001b[0;34m.\u001b[0m\u001b[0mreset\u001b[0m\u001b[0;34m(\u001b[0m\u001b[0;34m**\u001b[0m\u001b[0mkwargs\u001b[0m\u001b[0;34m)\u001b[0m\u001b[0;34m\u001b[0m\u001b[0;34m\u001b[0m\u001b[0m\n\u001b[0m\u001b[1;32m    193\u001b[0m \u001b[0;34m\u001b[0m\u001b[0m\n\u001b[1;32m    194\u001b[0m     \u001b[0;32mif\u001b[0m \u001b[0;32mnot\u001b[0m \u001b[0misinstance\u001b[0m\u001b[0;34m(\u001b[0m\u001b[0mresult\u001b[0m\u001b[0;34m,\u001b[0m \u001b[0mtuple\u001b[0m\u001b[0;34m)\u001b[0m\u001b[0;34m:\u001b[0m\u001b[0;34m\u001b[0m\u001b[0;34m\u001b[0m\u001b[0m\n",
            "\u001b[0;32m/usr/local/lib/python3.7/dist-packages/gymnasium/envs/box2d/lunar_lander.py\u001b[0m in \u001b[0;36mreset\u001b[0;34m(self, seed, options)\u001b[0m\n\u001b[1;32m    419\u001b[0m \u001b[0;34m\u001b[0m\u001b[0m\n\u001b[1;32m    420\u001b[0m         \u001b[0;32mif\u001b[0m \u001b[0mself\u001b[0m\u001b[0;34m.\u001b[0m\u001b[0mrender_mode\u001b[0m \u001b[0;34m==\u001b[0m \u001b[0;34m\"human\"\u001b[0m\u001b[0;34m:\u001b[0m\u001b[0;34m\u001b[0m\u001b[0;34m\u001b[0m\u001b[0m\n\u001b[0;32m--> 421\u001b[0;31m             \u001b[0mself\u001b[0m\u001b[0;34m.\u001b[0m\u001b[0mrender\u001b[0m\u001b[0;34m(\u001b[0m\u001b[0;34m)\u001b[0m\u001b[0;34m\u001b[0m\u001b[0;34m\u001b[0m\u001b[0m\n\u001b[0m\u001b[1;32m    422\u001b[0m         \u001b[0;32mreturn\u001b[0m \u001b[0mself\u001b[0m\u001b[0;34m.\u001b[0m\u001b[0mstep\u001b[0m\u001b[0;34m(\u001b[0m\u001b[0mnp\u001b[0m\u001b[0;34m.\u001b[0m\u001b[0marray\u001b[0m\u001b[0;34m(\u001b[0m\u001b[0;34m[\u001b[0m\u001b[0;36m0\u001b[0m\u001b[0;34m,\u001b[0m \u001b[0;36m0\u001b[0m\u001b[0;34m]\u001b[0m\u001b[0;34m)\u001b[0m \u001b[0;32mif\u001b[0m \u001b[0mself\u001b[0m\u001b[0;34m.\u001b[0m\u001b[0mcontinuous\u001b[0m \u001b[0;32melse\u001b[0m \u001b[0;36m0\u001b[0m\u001b[0;34m)\u001b[0m\u001b[0;34m[\u001b[0m\u001b[0;36m0\u001b[0m\u001b[0;34m]\u001b[0m\u001b[0;34m,\u001b[0m \u001b[0;34m{\u001b[0m\u001b[0;34m}\u001b[0m\u001b[0;34m\u001b[0m\u001b[0;34m\u001b[0m\u001b[0m\n\u001b[1;32m    423\u001b[0m \u001b[0;34m\u001b[0m\u001b[0m\n",
            "\u001b[0;32m/usr/local/lib/python3.7/dist-packages/gymnasium/envs/box2d/lunar_lander.py\u001b[0m in \u001b[0;36mrender\u001b[0;34m(self)\u001b[0m\n\u001b[1;32m    621\u001b[0m         \u001b[0;32mif\u001b[0m \u001b[0mself\u001b[0m\u001b[0;34m.\u001b[0m\u001b[0mscreen\u001b[0m \u001b[0;32mis\u001b[0m \u001b[0;32mNone\u001b[0m \u001b[0;32mand\u001b[0m \u001b[0mself\u001b[0m\u001b[0;34m.\u001b[0m\u001b[0mrender_mode\u001b[0m \u001b[0;34m==\u001b[0m \u001b[0;34m\"human\"\u001b[0m\u001b[0;34m:\u001b[0m\u001b[0;34m\u001b[0m\u001b[0;34m\u001b[0m\u001b[0m\n\u001b[1;32m    622\u001b[0m             \u001b[0mpygame\u001b[0m\u001b[0;34m.\u001b[0m\u001b[0minit\u001b[0m\u001b[0;34m(\u001b[0m\u001b[0;34m)\u001b[0m\u001b[0;34m\u001b[0m\u001b[0;34m\u001b[0m\u001b[0m\n\u001b[0;32m--> 623\u001b[0;31m             \u001b[0mpygame\u001b[0m\u001b[0;34m.\u001b[0m\u001b[0mdisplay\u001b[0m\u001b[0;34m.\u001b[0m\u001b[0minit\u001b[0m\u001b[0;34m(\u001b[0m\u001b[0;34m)\u001b[0m\u001b[0;34m\u001b[0m\u001b[0;34m\u001b[0m\u001b[0m\n\u001b[0m\u001b[1;32m    624\u001b[0m             \u001b[0mself\u001b[0m\u001b[0;34m.\u001b[0m\u001b[0mscreen\u001b[0m \u001b[0;34m=\u001b[0m \u001b[0mpygame\u001b[0m\u001b[0;34m.\u001b[0m\u001b[0mdisplay\u001b[0m\u001b[0;34m.\u001b[0m\u001b[0mset_mode\u001b[0m\u001b[0;34m(\u001b[0m\u001b[0;34m(\u001b[0m\u001b[0mVIEWPORT_W\u001b[0m\u001b[0;34m,\u001b[0m \u001b[0mVIEWPORT_H\u001b[0m\u001b[0;34m)\u001b[0m\u001b[0;34m)\u001b[0m\u001b[0;34m\u001b[0m\u001b[0;34m\u001b[0m\u001b[0m\n\u001b[1;32m    625\u001b[0m         \u001b[0;32mif\u001b[0m \u001b[0mself\u001b[0m\u001b[0;34m.\u001b[0m\u001b[0mclock\u001b[0m \u001b[0;32mis\u001b[0m \u001b[0;32mNone\u001b[0m\u001b[0;34m:\u001b[0m\u001b[0;34m\u001b[0m\u001b[0;34m\u001b[0m\u001b[0m\n",
            "\u001b[0;31merror\u001b[0m: No available video device"
          ]
        }
      ]
    },
    {
      "cell_type": "code",
      "source": [],
      "metadata": {
        "id": "EZv1Ry1MsdH3"
      },
      "execution_count": null,
      "outputs": []
    }
  ]
}