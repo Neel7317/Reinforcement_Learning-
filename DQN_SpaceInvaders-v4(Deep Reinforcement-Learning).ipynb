{
 "cells": [
  {
   "cell_type": "code",
   "execution_count": 1,
   "id": "9acc7ce7",
   "metadata": {},
   "outputs": [
    {
     "name": "stdout",
     "output_type": "stream",
     "text": [
      "Collecting tensorflow==2.3.1\n",
      "  Downloading tensorflow-2.3.1-cp37-cp37m-win_amd64.whl (342.5 MB)\n",
      "     ------------------------------------ 342.5/342.5 MB 793.5 kB/s eta 0:00:00\n",
      "Requirement already satisfied: gym in c:\\users\\dell\\appdata\\local\\programs\\python\\python37\\lib\\site-packages (0.21.0)\n",
      "Requirement already satisfied: keras-rl2 in c:\\users\\dell\\appdata\\local\\programs\\python\\python37\\lib\\site-packages (1.0.5)\n",
      "Requirement already satisfied: protobuf>=3.9.2 in c:\\users\\dell\\appdata\\roaming\\python\\python37\\site-packages (from tensorflow==2.3.1) (3.19.1)\n",
      "Requirement already satisfied: tensorflow-estimator<2.4.0,>=2.3.0 in c:\\users\\dell\\appdata\\local\\programs\\python\\python37\\lib\\site-packages (from tensorflow==2.3.1) (2.3.0)\n",
      "Requirement already satisfied: termcolor>=1.1.0 in c:\\users\\dell\\appdata\\roaming\\python\\python37\\site-packages (from tensorflow==2.3.1) (1.1.0)\n",
      "Requirement already satisfied: astunparse==1.6.3 in c:\\users\\dell\\appdata\\roaming\\python\\python37\\site-packages (from tensorflow==2.3.1) (1.6.3)\n",
      "Requirement already satisfied: six>=1.12.0 in c:\\users\\dell\\appdata\\roaming\\python\\python37\\site-packages (from tensorflow==2.3.1) (1.16.0)\n",
      "Requirement already satisfied: grpcio>=1.8.6 in c:\\users\\dell\\appdata\\local\\programs\\python\\python37\\lib\\site-packages (from tensorflow==2.3.1) (1.42.0)\n",
      "Requirement already satisfied: numpy<1.19.0,>=1.16.0 in c:\\users\\dell\\appdata\\local\\programs\\python\\python37\\lib\\site-packages (from tensorflow==2.3.1) (1.18.5)\n",
      "Requirement already satisfied: wheel>=0.26 in c:\\users\\dell\\appdata\\roaming\\python\\python37\\site-packages (from tensorflow==2.3.1) (0.37.0)\n",
      "Requirement already satisfied: wrapt>=1.11.1 in c:\\users\\dell\\appdata\\roaming\\python\\python37\\site-packages (from tensorflow==2.3.1) (1.13.3)\n",
      "Requirement already satisfied: tensorboard<3,>=2.3.0 in c:\\users\\dell\\appdata\\local\\programs\\python\\python37\\lib\\site-packages (from tensorflow==2.3.1) (2.10.1)\n",
      "Requirement already satisfied: google-pasta>=0.1.8 in c:\\users\\dell\\appdata\\roaming\\python\\python37\\site-packages (from tensorflow==2.3.1) (0.2.0)\n",
      "Requirement already satisfied: gast==0.3.3 in c:\\users\\dell\\appdata\\local\\programs\\python\\python37\\lib\\site-packages (from tensorflow==2.3.1) (0.3.3)\n",
      "Requirement already satisfied: keras-preprocessing<1.2,>=1.1.1 in c:\\users\\dell\\appdata\\roaming\\python\\python37\\site-packages (from tensorflow==2.3.1) (1.1.2)\n",
      "Requirement already satisfied: opt-einsum>=2.3.2 in c:\\users\\dell\\appdata\\roaming\\python\\python37\\site-packages (from tensorflow==2.3.1) (3.3.0)\n",
      "Requirement already satisfied: absl-py>=0.7.0 in c:\\users\\dell\\appdata\\roaming\\python\\python37\\site-packages (from tensorflow==2.3.1) (1.0.0)\n",
      "Requirement already satisfied: h5py<2.11.0,>=2.10.0 in c:\\users\\dell\\appdata\\local\\programs\\python\\python37\\lib\\site-packages (from tensorflow==2.3.1) (2.10.0)\n",
      "Requirement already satisfied: cloudpickle>=1.2.0 in c:\\users\\dell\\appdata\\local\\programs\\python\\python37\\lib\\site-packages (from gym) (2.1.0)\n",
      "Requirement already satisfied: importlib-metadata>=4.8.1 in c:\\users\\dell\\appdata\\local\\programs\\python\\python37\\lib\\site-packages (from gym) (4.13.0)\n",
      "Requirement already satisfied: ale-py~=0.7.1 in c:\\users\\dell\\appdata\\local\\programs\\python\\python37\\lib\\site-packages (from gym) (0.7.4)\n",
      "Requirement already satisfied: importlib-resources in c:\\users\\dell\\appdata\\local\\programs\\python\\python37\\lib\\site-packages (from ale-py~=0.7.1->gym) (5.4.0)\n",
      "Requirement already satisfied: typing-extensions>=3.6.4 in c:\\users\\dell\\appdata\\local\\programs\\python\\python37\\lib\\site-packages (from importlib-metadata>=4.8.1->gym) (4.3.0)\n",
      "Requirement already satisfied: zipp>=0.5 in c:\\users\\dell\\appdata\\roaming\\python\\python37\\site-packages (from importlib-metadata>=4.8.1->gym) (3.6.0)\n",
      "Requirement already satisfied: tensorboard-plugin-wit>=1.6.0 in c:\\users\\dell\\appdata\\roaming\\python\\python37\\site-packages (from tensorboard<3,>=2.3.0->tensorflow==2.3.1) (1.8.0)\n",
      "Requirement already satisfied: werkzeug>=1.0.1 in c:\\users\\dell\\appdata\\local\\programs\\python\\python37\\lib\\site-packages (from tensorboard<3,>=2.3.0->tensorflow==2.3.1) (2.2.2)\n",
      "Requirement already satisfied: tensorboard-data-server<0.7.0,>=0.6.0 in c:\\users\\dell\\appdata\\roaming\\python\\python37\\site-packages (from tensorboard<3,>=2.3.0->tensorflow==2.3.1) (0.6.1)\n",
      "Requirement already satisfied: google-auth-oauthlib<0.5,>=0.4.1 in c:\\users\\dell\\appdata\\roaming\\python\\python37\\site-packages (from tensorboard<3,>=2.3.0->tensorflow==2.3.1) (0.4.6)\n",
      "Requirement already satisfied: google-auth<3,>=1.6.3 in c:\\users\\dell\\appdata\\roaming\\python\\python37\\site-packages (from tensorboard<3,>=2.3.0->tensorflow==2.3.1) (2.3.3)\n",
      "Requirement already satisfied: setuptools>=41.0.0 in c:\\users\\dell\\appdata\\roaming\\python\\python37\\site-packages (from tensorboard<3,>=2.3.0->tensorflow==2.3.1) (58.5.3)\n",
      "Requirement already satisfied: requests<3,>=2.21.0 in c:\\users\\dell\\appdata\\local\\programs\\python\\python37\\lib\\site-packages (from tensorboard<3,>=2.3.0->tensorflow==2.3.1) (2.25.1)\n",
      "Requirement already satisfied: markdown>=2.6.8 in c:\\users\\dell\\appdata\\roaming\\python\\python37\\site-packages (from tensorboard<3,>=2.3.0->tensorflow==2.3.1) (3.3.4)\n",
      "Requirement already satisfied: pyasn1-modules>=0.2.1 in c:\\users\\dell\\appdata\\roaming\\python\\python37\\site-packages (from google-auth<3,>=1.6.3->tensorboard<3,>=2.3.0->tensorflow==2.3.1) (0.2.8)\n",
      "Requirement already satisfied: rsa<5,>=3.1.4 in c:\\users\\dell\\appdata\\roaming\\python\\python37\\site-packages (from google-auth<3,>=1.6.3->tensorboard<3,>=2.3.0->tensorflow==2.3.1) (4.7.2)\n",
      "Requirement already satisfied: cachetools<5.0,>=2.0.0 in c:\\users\\dell\\appdata\\roaming\\python\\python37\\site-packages (from google-auth<3,>=1.6.3->tensorboard<3,>=2.3.0->tensorflow==2.3.1) (4.2.4)\n",
      "Requirement already satisfied: requests-oauthlib>=0.7.0 in c:\\users\\dell\\appdata\\roaming\\python\\python37\\site-packages (from google-auth-oauthlib<0.5,>=0.4.1->tensorboard<3,>=2.3.0->tensorflow==2.3.1) (1.3.0)\n",
      "Requirement already satisfied: certifi>=2017.4.17 in c:\\users\\dell\\appdata\\roaming\\python\\python37\\site-packages (from requests<3,>=2.21.0->tensorboard<3,>=2.3.0->tensorflow==2.3.1) (2021.10.8)\n",
      "Requirement already satisfied: chardet<5,>=3.0.2 in c:\\users\\dell\\appdata\\local\\programs\\python\\python37\\lib\\site-packages (from requests<3,>=2.21.0->tensorboard<3,>=2.3.0->tensorflow==2.3.1) (4.0.0)\n",
      "Requirement already satisfied: idna<3,>=2.5 in c:\\users\\dell\\appdata\\local\\programs\\python\\python37\\lib\\site-packages (from requests<3,>=2.21.0->tensorboard<3,>=2.3.0->tensorflow==2.3.1) (2.10)\n",
      "Requirement already satisfied: urllib3<1.27,>=1.21.1 in c:\\users\\dell\\appdata\\roaming\\python\\python37\\site-packages (from requests<3,>=2.21.0->tensorboard<3,>=2.3.0->tensorflow==2.3.1) (1.26.7)\n",
      "Requirement already satisfied: MarkupSafe>=2.1.1 in c:\\users\\dell\\appdata\\local\\programs\\python\\python37\\lib\\site-packages (from werkzeug>=1.0.1->tensorboard<3,>=2.3.0->tensorflow==2.3.1) (2.1.1)\n",
      "Requirement already satisfied: pyasn1<0.5.0,>=0.4.6 in c:\\users\\dell\\appdata\\roaming\\python\\python37\\site-packages (from pyasn1-modules>=0.2.1->google-auth<3,>=1.6.3->tensorboard<3,>=2.3.0->tensorflow==2.3.1) (0.4.8)\n",
      "Requirement already satisfied: oauthlib>=3.0.0 in c:\\users\\dell\\appdata\\roaming\\python\\python37\\site-packages (from requests-oauthlib>=0.7.0->google-auth-oauthlib<0.5,>=0.4.1->tensorboard<3,>=2.3.0->tensorflow==2.3.1) (3.1.1)\n",
      "Installing collected packages: tensorflow\n",
      "  Attempting uninstall: tensorflow\n",
      "    Found existing installation: tensorflow 2.3.0\n",
      "    Uninstalling tensorflow-2.3.0:\n",
      "      Successfully uninstalled tensorflow-2.3.0\n"
     ]
    },
    {
     "name": "stderr",
     "output_type": "stream",
     "text": [
      "WARNING: Ignoring invalid distribution -udenet (c:\\users\\dell\\appdata\\local\\programs\\python\\python37\\lib\\site-packages)\n",
      "WARNING: Ignoring invalid distribution -pencv-python (c:\\users\\dell\\appdata\\local\\programs\\python\\python37\\lib\\site-packages)\n",
      "WARNING: Ignoring invalid distribution - (c:\\users\\dell\\appdata\\local\\programs\\python\\python37\\lib\\site-packages)\n",
      "WARNING: Ignoring invalid distribution -ensorflow (c:\\users\\dell\\appdata\\local\\programs\\python\\python37\\lib\\site-packages)\n",
      "WARNING: Ignoring invalid distribution -udenet (c:\\users\\dell\\appdata\\local\\programs\\python\\python37\\lib\\site-packages)\n",
      "WARNING: Ignoring invalid distribution -pencv-python (c:\\users\\dell\\appdata\\local\\programs\\python\\python37\\lib\\site-packages)\n",
      "WARNING: Ignoring invalid distribution - (c:\\users\\dell\\appdata\\local\\programs\\python\\python37\\lib\\site-packages)\n",
      "WARNING: Ignoring invalid distribution -ensorflow (c:\\users\\dell\\appdata\\local\\programs\\python\\python37\\lib\\site-packages)\n",
      "    WARNING: Ignoring invalid distribution -udenet (c:\\users\\dell\\appdata\\local\\programs\\python\\python37\\lib\\site-packages)\n",
      "    WARNING: Ignoring invalid distribution -pencv-python (c:\\users\\dell\\appdata\\local\\programs\\python\\python37\\lib\\site-packages)\n",
      "    WARNING: Ignoring invalid distribution - (c:\\users\\dell\\appdata\\local\\programs\\python\\python37\\lib\\site-packages)\n",
      "    WARNING: Ignoring invalid distribution -ensorflow (c:\\users\\dell\\appdata\\local\\programs\\python\\python37\\lib\\site-packages)\n",
      "ERROR: Could not install packages due to an OSError: [WinError 5] Access is denied: 'c:\\\\users\\\\dell\\\\appdata\\\\local\\\\programs\\\\python\\\\python37\\\\lib\\\\site-packages\\\\~-nsorflow\\\\lite\\\\experimental\\\\microfrontend\\\\python\\\\ops\\\\_audio_microfrontend_op.so'\n",
      "Consider using the `--user` option or check the permissions.\n",
      "\n",
      "WARNING: Ignoring invalid distribution -udenet (c:\\users\\dell\\appdata\\local\\programs\\python\\python37\\lib\\site-packages)\n",
      "WARNING: Ignoring invalid distribution -pencv-python (c:\\users\\dell\\appdata\\local\\programs\\python\\python37\\lib\\site-packages)\n",
      "WARNING: Ignoring invalid distribution - (c:\\users\\dell\\appdata\\local\\programs\\python\\python37\\lib\\site-packages)\n",
      "WARNING: Ignoring invalid distribution -ensorflow (c:\\users\\dell\\appdata\\local\\programs\\python\\python37\\lib\\site-packages)\n",
      "WARNING: Ignoring invalid distribution -udenet (c:\\users\\dell\\appdata\\local\\programs\\python\\python37\\lib\\site-packages)\n",
      "WARNING: Ignoring invalid distribution -pencv-python (c:\\users\\dell\\appdata\\local\\programs\\python\\python37\\lib\\site-packages)\n",
      "WARNING: Ignoring invalid distribution - (c:\\users\\dell\\appdata\\local\\programs\\python\\python37\\lib\\site-packages)\n",
      "WARNING: Ignoring invalid distribution -ensorflow (c:\\users\\dell\\appdata\\local\\programs\\python\\python37\\lib\\site-packages)\n"
     ]
    }
   ],
   "source": [
    "!pip install tensorflow==2.3.1 gym keras-rl2 gym[atari]"
   ]
  },
  {
   "cell_type": "code",
   "execution_count": 1,
   "id": "49f84253",
   "metadata": {},
   "outputs": [],
   "source": [
    "import gym \n",
    "import random"
   ]
  },
  {
   "cell_type": "code",
   "execution_count": 2,
   "id": "c90424cd",
   "metadata": {},
   "outputs": [],
   "source": [
    "env = gym.make('SpaceInvaders-v0')\n",
    "height, width, channels = env.observation_space.shape\n",
    "actions = env.action_space.n"
   ]
  },
  {
   "cell_type": "code",
   "execution_count": 3,
   "id": "83f01a9c",
   "metadata": {},
   "outputs": [
    {
     "data": {
      "text/plain": [
       "['NOOP', 'FIRE', 'RIGHT', 'LEFT', 'RIGHTFIRE', 'LEFTFIRE']"
      ]
     },
     "execution_count": 3,
     "metadata": {},
     "output_type": "execute_result"
    }
   ],
   "source": [
    "env.unwrapped.get_action_meanings()"
   ]
  },
  {
   "cell_type": "code",
   "execution_count": 4,
   "id": "2dbb50fb",
   "metadata": {},
   "outputs": [
    {
     "name": "stderr",
     "output_type": "stream",
     "text": [
      "c:\\users\\dell\\appdata\\local\\programs\\python\\python37\\lib\\site-packages\\gym\\envs\\atari\\environment.py:269: UserWarning: \u001b[33mWARN: We strongly suggest supplying `render_mode` when constructing your environment, e.g., gym.make(ID, render_mode='human'). Using `render_mode` provides access to proper scaling, audio support, and proper framerates.\u001b[0m\n",
      "  \"We strongly suggest supplying `render_mode` when \"\n",
      "c:\\users\\dell\\appdata\\local\\programs\\python\\python37\\lib\\site-packages\\pyglet\\image\\codecs\\wic.py:406: UserWarning: [WinError -2147417850] Cannot change thread mode after it is set\n",
      "  warnings.warn(str(err))\n"
     ]
    },
    {
     "name": "stdout",
     "output_type": "stream",
     "text": [
      "Episode:1 Score:245.0\n",
      "Episode:2 Score:460.0\n",
      "Episode:3 Score:145.0\n",
      "Episode:4 Score:400.0\n",
      "Episode:5 Score:85.0\n"
     ]
    }
   ],
   "source": [
    "episodes = 5\n",
    "for episode in range(1, episodes+1):\n",
    "    state = env.reset()\n",
    "    done = False\n",
    "    score = 0 \n",
    "    \n",
    "    while not done:\n",
    "        env.render()\n",
    "        action = random.choice([0,1,2,3,4,5])\n",
    "        n_state, reward, done, info = env.step(action)\n",
    "        score+=reward\n",
    "    print('Episode:{} Score:{}'.format(episode, score))\n",
    "env.close()"
   ]
  },
  {
   "cell_type": "code",
   "execution_count": 5,
   "id": "5628d4da",
   "metadata": {},
   "outputs": [],
   "source": [
    "import numpy as np\n",
    "from tensorflow.keras.models import Sequential\n",
    "from tensorflow.keras.layers import Dense, Flatten, Convolution2D\n",
    "from tensorflow.keras.optimizers import Adam"
   ]
  },
  {
   "cell_type": "code",
   "execution_count": 6,
   "id": "a4a7d0c3",
   "metadata": {},
   "outputs": [],
   "source": [
    "def build_model(height, width, channels, actions):\n",
    "    model = Sequential()\n",
    "    model.add(Convolution2D(32, (8,8), strides=(4,4), activation='relu', input_shape=(3,height, width, channels)))\n",
    "    model.add(Convolution2D(64, (4,4), strides=(2,2), activation='relu'))\n",
    "    model.add(Convolution2D(64, (3,3), activation='relu'))\n",
    "    model.add(Flatten())\n",
    "    model.add(Dense(512, activation='relu'))\n",
    "    model.add(Dense(256, activation='relu'))\n",
    "    model.add(Dense(actions, activation='linear'))\n",
    "    return model"
   ]
  },
  {
   "cell_type": "code",
   "execution_count": 12,
   "id": "33484d4a",
   "metadata": {},
   "outputs": [],
   "source": [
    "del model"
   ]
  },
  {
   "cell_type": "code",
   "execution_count": 26,
   "id": "cf460559",
   "metadata": {},
   "outputs": [],
   "source": [
    "model = build_model(height, width, channels, actions)"
   ]
  },
  {
   "cell_type": "code",
   "execution_count": 27,
   "id": "ae6e07b6",
   "metadata": {},
   "outputs": [
    {
     "name": "stdout",
     "output_type": "stream",
     "text": [
      "Model: \"sequential_3\"\n",
      "_________________________________________________________________\n",
      "Layer (type)                 Output Shape              Param #   \n",
      "=================================================================\n",
      "conv2d_9 (Conv2D)            (None, 3, 51, 39, 32)     6176      \n",
      "_________________________________________________________________\n",
      "conv2d_10 (Conv2D)           (None, 3, 24, 18, 64)     32832     \n",
      "_________________________________________________________________\n",
      "conv2d_11 (Conv2D)           (None, 3, 22, 16, 64)     36928     \n",
      "_________________________________________________________________\n",
      "flatten_3 (Flatten)          (None, 67584)             0         \n",
      "_________________________________________________________________\n",
      "dense_12 (Dense)             (None, 512)               34603520  \n",
      "_________________________________________________________________\n",
      "dense_13 (Dense)             (None, 256)               131328    \n",
      "_________________________________________________________________\n",
      "dense_14 (Dense)             (None, 6)                 1542      \n",
      "=================================================================\n",
      "Total params: 34,812,326\n",
      "Trainable params: 34,812,326\n",
      "Non-trainable params: 0\n",
      "_________________________________________________________________\n"
     ]
    }
   ],
   "source": [
    "model.summary()"
   ]
  },
  {
   "cell_type": "code",
   "execution_count": 9,
   "id": "09d15724",
   "metadata": {},
   "outputs": [],
   "source": [
    "from rl.agents import DQNAgent\n",
    "from rl.memory import SequentialMemory\n",
    "from rl.policy import LinearAnnealedPolicy, EpsGreedyQPolicy"
   ]
  },
  {
   "cell_type": "code",
   "execution_count": 10,
   "id": "66a894d1",
   "metadata": {},
   "outputs": [],
   "source": [
    "def build_agent(model, actions):\n",
    "    policy = LinearAnnealedPolicy(EpsGreedyQPolicy(), attr='eps', value_max=1., value_min=.1, value_test=.2, nb_steps=10000)\n",
    "    memory = SequentialMemory(limit=1000, window_length=3)\n",
    "    dqn = DQNAgent(model=model, memory=memory, policy=policy,\n",
    "                  enable_dueling_network=True, dueling_type='avg', \n",
    "                   nb_actions=actions, nb_steps_warmup=1000\n",
    "                  )\n",
    "    return dqn"
   ]
  },
  {
   "cell_type": "code",
   "execution_count": 28,
   "id": "a174be1e",
   "metadata": {},
   "outputs": [],
   "source": [
    "dqn = build_agent(model, actions)\n",
    "dqn.compile(Adam(lr=1e-4))"
   ]
  },
  {
   "cell_type": "code",
   "execution_count": 15,
   "id": "b8b8da1c",
   "metadata": {},
   "outputs": [
    {
     "name": "stdout",
     "output_type": "stream",
     "text": [
      "Training for 10000 steps ...\n",
      "WARNING:tensorflow:From c:\\users\\dell\\appdata\\local\\programs\\python\\python37\\lib\\site-packages\\tensorflow\\python\\keras\\engine\\training_v1.py:2070: Model.state_updates (from tensorflow.python.keras.engine.training) is deprecated and will be removed in a future version.\n",
      "Instructions for updating:\n",
      "This property should not be used in TensorFlow 2.0, as updates are applied automatically.\n",
      "  619/10000: episode: 1, duration: 33.199s, episode steps: 619, steps per second:  19, episode reward: 150.000, mean reward:  0.242 [ 0.000, 25.000], mean action: 2.538 [0.000, 5.000],  loss: --, mean_q: --, mean_eps: --\n",
      " 1208/10000: episode: 2, duration: 533.142s, episode steps: 589, steps per second:   1, episode reward: 20.000, mean reward:  0.034 [ 0.000, 15.000], mean action: 2.362 [0.000, 5.000],  loss: 11.995610, mean_q: 3.218847, mean_eps: 0.900640\n",
      " 2016/10000: episode: 3, duration: 2095.321s, episode steps: 808, steps per second:   0, episode reward: 110.000, mean reward:  0.136 [ 0.000, 30.000], mean action: 2.479 [0.000, 5.000],  loss: 0.672121, mean_q: 1.690915, mean_eps: 0.854965\n",
      " 2695/10000: episode: 4, duration: 1601.611s, episode steps: 679, steps per second:   0, episode reward: 225.000, mean reward:  0.331 [ 0.000, 30.000], mean action: 2.541 [0.000, 5.000],  loss: 1.273597, mean_q: 1.685247, mean_eps: 0.788050\n",
      " 3186/10000: episode: 5, duration: 926.276s, episode steps: 491, steps per second:   1, episode reward: 30.000, mean reward:  0.061 [ 0.000, 15.000], mean action: 2.330 [0.000, 5.000],  loss: 0.656897, mean_q: 2.097381, mean_eps: 0.735400\n",
      " 3686/10000: episode: 6, duration: 942.240s, episode steps: 500, steps per second:   1, episode reward: 155.000, mean reward:  0.310 [ 0.000, 30.000], mean action: 2.468 [0.000, 5.000],  loss: 0.634869, mean_q: 1.700167, mean_eps: 0.690805\n",
      " 4379/10000: episode: 7, duration: 1230.030s, episode steps: 693, steps per second:   1, episode reward: 180.000, mean reward:  0.260 [ 0.000, 30.000], mean action: 2.440 [0.000, 5.000],  loss: 0.469292, mean_q: 1.457836, mean_eps: 0.637120\n",
      " 4980/10000: episode: 8, duration: 1074.209s, episode steps: 601, steps per second:   1, episode reward: 110.000, mean reward:  0.183 [ 0.000, 30.000], mean action: 2.494 [0.000, 5.000],  loss: 0.255424, mean_q: 1.729657, mean_eps: 0.578890\n",
      " 5759/10000: episode: 9, duration: 1144.020s, episode steps: 779, steps per second:   1, episode reward: 155.000, mean reward:  0.199 [ 0.000, 30.000], mean action: 2.549 [0.000, 5.000],  loss: 0.504662, mean_q: 1.682367, mean_eps: 0.516790\n",
      " 6452/10000: episode: 10, duration: 1027.558s, episode steps: 693, steps per second:   1, episode reward: 110.000, mean reward:  0.159 [ 0.000, 20.000], mean action: 2.326 [0.000, 5.000],  loss: 0.217744, mean_q: 1.195691, mean_eps: 0.450550\n",
      " 7356/10000: episode: 11, duration: 1417.155s, episode steps: 904, steps per second:   1, episode reward: 185.000, mean reward:  0.205 [ 0.000, 30.000], mean action: 2.400 [0.000, 5.000],  loss: 0.219551, mean_q: 1.344918, mean_eps: 0.378685\n",
      " 7988/10000: episode: 12, duration: 1016.968s, episode steps: 632, steps per second:   1, episode reward: 65.000, mean reward:  0.103 [ 0.000, 20.000], mean action: 2.573 [0.000, 5.000],  loss: 0.112310, mean_q: 0.868627, mean_eps: 0.309565\n",
      " 8453/10000: episode: 13, duration: 709.189s, episode steps: 465, steps per second:   1, episode reward: 105.000, mean reward:  0.226 [ 0.000, 25.000], mean action: 2.228 [0.000, 5.000],  loss: 0.285512, mean_q: 0.705431, mean_eps: 0.260200\n",
      " 8963/10000: episode: 14, duration: 792.836s, episode steps: 510, steps per second:   1, episode reward: 100.000, mean reward:  0.196 [ 0.000, 20.000], mean action: 2.686 [0.000, 5.000],  loss: 0.131759, mean_q: 0.804295, mean_eps: 0.216325\n",
      " 9604/10000: episode: 15, duration: 985.758s, episode steps: 641, steps per second:   1, episode reward: 110.000, mean reward:  0.172 [ 0.000, 25.000], mean action: 2.030 [0.000, 5.000],  loss: 0.176090, mean_q: 0.875643, mean_eps: 0.164530\n",
      "done, took 16110.801 seconds\n"
     ]
    },
    {
     "data": {
      "text/plain": [
       "<tensorflow.python.keras.callbacks.History at 0x22200042508>"
      ]
     },
     "execution_count": 15,
     "metadata": {},
     "output_type": "execute_result"
    }
   ],
   "source": [
    "dqn.fit(env, nb_steps=10000, visualize=False, verbose=2)"
   ]
  },
  {
   "cell_type": "code",
   "execution_count": 16,
   "id": "91c02106",
   "metadata": {},
   "outputs": [],
   "source": [
    "dqn.save_weights('SavedWeights/10k-Fast/dqn_weights.h5f')"
   ]
  },
  {
   "cell_type": "code",
   "execution_count": 31,
   "id": "78abb685",
   "metadata": {},
   "outputs": [
    {
     "name": "stdout",
     "output_type": "stream",
     "text": [
      "Testing for 5 episodes ...\n",
      "Episode 1: reward: 405.000, steps: 993\n",
      "Episode 2: reward: 80.000, steps: 667\n",
      "Episode 3: reward: 110.000, steps: 724\n",
      "Episode 4: reward: 65.000, steps: 607\n",
      "Episode 5: reward: 70.000, steps: 526\n",
      "146.0\n"
     ]
    }
   ],
   "source": [
    "\n",
    "scores = dqn.test(env, nb_episodes=5, visualize=True)\n",
    "print(np.mean(scores.history['episode_reward']))"
   ]
  },
  {
   "cell_type": "code",
   "execution_count": 18,
   "id": "c91c63d3",
   "metadata": {},
   "outputs": [],
   "source": [
    "env.close()"
   ]
  },
  {
   "cell_type": "code",
   "execution_count": 25,
   "id": "722c9dea",
   "metadata": {},
   "outputs": [],
   "source": [
    "del model, dqn"
   ]
  },
  {
   "cell_type": "code",
   "execution_count": 30,
   "id": "e41efc52",
   "metadata": {},
   "outputs": [],
   "source": [
    "dqn.load_weights('SavedWeights/10k-Fast/dqn_weights.h5f')"
   ]
  },
  {
   "cell_type": "code",
   "execution_count": null,
   "id": "5238f098",
   "metadata": {},
   "outputs": [],
   "source": []
  }
 ],
 "metadata": {
  "kernelspec": {
   "display_name": "Python 3 (ipykernel)",
   "language": "python",
   "name": "python3"
  },
  "language_info": {
   "codemirror_mode": {
    "name": "ipython",
    "version": 3
   },
   "file_extension": ".py",
   "mimetype": "text/x-python",
   "name": "python",
   "nbconvert_exporter": "python",
   "pygments_lexer": "ipython3",
   "version": "3.7.7"
  }
 },
 "nbformat": 4,
 "nbformat_minor": 5
}
